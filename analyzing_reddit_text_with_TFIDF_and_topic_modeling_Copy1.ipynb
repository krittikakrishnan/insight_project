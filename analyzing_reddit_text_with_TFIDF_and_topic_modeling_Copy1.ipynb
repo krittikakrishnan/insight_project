{
 "cells": [
  {
   "cell_type": "markdown",
   "metadata": {
    "toc": true
   },
   "source": [
    "<h1>Table of Contents<span class=\"tocSkip\"></span></h1>\n",
    "<div class=\"toc\"><ul class=\"toc-item\"><li><span><a href=\"#Subsetting-posts-by-contraceptive-first.\" data-toc-modified-id=\"Subsetting-posts-by-contraceptive-first.-1\"><span class=\"toc-item-num\">1&nbsp;&nbsp;</span>Subsetting posts by contraceptive first.</a></span></li><li><span><a href=\"#Let's-compare-topic-modeling-with-an-LDA-vs-an-NMF-with-the-posts-from-each-contraceptive-type.\" data-toc-modified-id=\"Let's-compare-topic-modeling-with-an-LDA-vs-an-NMF-with-the-posts-from-each-contraceptive-type.-2\"><span class=\"toc-item-num\">2&nbsp;&nbsp;</span>Let's compare topic modeling with an LDA vs an NMF with the posts from each contraceptive type.</a></span></li></ul></div>"
   ]
  },
  {
   "cell_type": "code",
   "execution_count": 1,
   "metadata": {},
   "outputs": [],
   "source": [
    "import pandas as pd\n",
    "import os\n",
    "import numpy as np\n",
    "import functools\n",
    "\n",
    "from sklearn.feature_extraction.text import TfidfVectorizer, CountVectorizer\n",
    "from sklearn.decomposition import LatentDirichletAllocation, NMF\n",
    "from functools import reduce"
   ]
  },
  {
   "cell_type": "code",
   "execution_count": 38,
   "metadata": {},
   "outputs": [],
   "source": [
    "path = \"/Users/krittikakrishnan/Desktop/Insight Project\"\n",
    "os.chdir(path)\n",
    "df = pd.read_csv(\"All Uncleaned Reddit Posts.csv\", delimiter = \",\")"
   ]
  },
  {
   "cell_type": "code",
   "execution_count": 39,
   "metadata": {},
   "outputs": [],
   "source": [
    "#Standardizing the original selftext\n",
    "def standardize_text(new, text_field):\n",
    "    new[text_field] = new[text_field].str.replace(r\"http\\S+\", \"\")\n",
    "    new[text_field] = new[text_field].str.replace(r\"http\", \"\")\n",
    "    new[text_field] = new[text_field].str.replace(r\"@\\S+\", \"\")\n",
    "    new[text_field] = new[text_field].str.replace(r\"\\n\", \"\")\n",
    "    new[text_field] = new[text_field].str.replace(r\"[^A-Za-z0-9 (),.!?@\\'\\`\\\"\\_\\n]\", \"\")\n",
    "    new[text_field] = new[text_field].str.replace(r\"@\", \"at\")\n",
    "    new[text_field] = new[text_field].str.lower()\n",
    "    return new\n",
    "\n",
    "# new = standardize_text(uncleaned, \"title\")\n",
    "posts = standardize_text(df, \"selftext\")"
   ]
  },
  {
   "cell_type": "code",
   "execution_count": 40,
   "metadata": {},
   "outputs": [
    {
     "data": {
      "text/html": [
       "<div>\n",
       "<style scoped>\n",
       "    .dataframe tbody tr th:only-of-type {\n",
       "        vertical-align: middle;\n",
       "    }\n",
       "\n",
       "    .dataframe tbody tr th {\n",
       "        vertical-align: top;\n",
       "    }\n",
       "\n",
       "    .dataframe thead th {\n",
       "        text-align: right;\n",
       "    }\n",
       "</style>\n",
       "<table border=\"1\" class=\"dataframe\">\n",
       "  <thead>\n",
       "    <tr style=\"text-align: right;\">\n",
       "      <th></th>\n",
       "      <th>Unnamed: 0</th>\n",
       "      <th>selftext</th>\n",
       "      <th>id</th>\n",
       "    </tr>\n",
       "  </thead>\n",
       "  <tbody>\n",
       "    <tr>\n",
       "      <th>0</th>\n",
       "      <td>0</td>\n",
       "      <td>i went off birth control around the beginning ...</td>\n",
       "      <td>8s5kam</td>\n",
       "    </tr>\n",
       "    <tr>\n",
       "      <th>1</th>\n",
       "      <td>1</td>\n",
       "      <td>update got my period today it was over a week ...</td>\n",
       "      <td>8s5s7t</td>\n",
       "    </tr>\n",
       "    <tr>\n",
       "      <th>2</th>\n",
       "      <td>2</td>\n",
       "      <td>i got off the pill on may 27 after two years. ...</td>\n",
       "      <td>8s67mh</td>\n",
       "    </tr>\n",
       "    <tr>\n",
       "      <th>3</th>\n",
       "      <td>3</td>\n",
       "      <td>it's a rather broad question and applies to an...</td>\n",
       "      <td>8s6n5g</td>\n",
       "    </tr>\n",
       "    <tr>\n",
       "      <th>4</th>\n",
       "      <td>4</td>\n",
       "      <td>my bf and i recently had a little bit of a sca...</td>\n",
       "      <td>8s6r3k</td>\n",
       "    </tr>\n",
       "    <tr>\n",
       "      <th>5</th>\n",
       "      <td>5</td>\n",
       "      <td>okay so today i had sex in the car (really bad...</td>\n",
       "      <td>8s6sb4</td>\n",
       "    </tr>\n",
       "    <tr>\n",
       "      <th>6</th>\n",
       "      <td>6</td>\n",
       "      <td>so i've had my mirena in for just over two mon...</td>\n",
       "      <td>8s6wg7</td>\n",
       "    </tr>\n",
       "    <tr>\n",
       "      <th>7</th>\n",
       "      <td>7</td>\n",
       "      <td>no text available</td>\n",
       "      <td>8s6wv1</td>\n",
       "    </tr>\n",
       "    <tr>\n",
       "      <th>8</th>\n",
       "      <td>8</td>\n",
       "      <td>i started taking yaz last week. today i had my...</td>\n",
       "      <td>8s7d94</td>\n",
       "    </tr>\n",
       "    <tr>\n",
       "      <th>9</th>\n",
       "      <td>9</td>\n",
       "      <td>currently, im unable to take the combined pill...</td>\n",
       "      <td>8s7dy6</td>\n",
       "    </tr>\n",
       "    <tr>\n",
       "      <th>10</th>\n",
       "      <td>10</td>\n",
       "      <td>ive been on nexplanon 9 months on and off over...</td>\n",
       "      <td>8s7jc7</td>\n",
       "    </tr>\n",
       "    <tr>\n",
       "      <th>11</th>\n",
       "      <td>11</td>\n",
       "      <td>i dont know what to do anymore, i used to be o...</td>\n",
       "      <td>8s7k20</td>\n",
       "    </tr>\n",
       "    <tr>\n",
       "      <th>12</th>\n",
       "      <td>12</td>\n",
       "      <td>hi guys! looking for advice from anyway who ha...</td>\n",
       "      <td>8s87fp</td>\n",
       "    </tr>\n",
       "    <tr>\n",
       "      <th>13</th>\n",
       "      <td>13</td>\n",
       "      <td>so i had a scare and im unprotected (condom br...</td>\n",
       "      <td>8s88p4</td>\n",
       "    </tr>\n",
       "    <tr>\n",
       "      <th>14</th>\n",
       "      <td>14</td>\n",
       "      <td>hey huysi have been taking cerelle pill for 4 ...</td>\n",
       "      <td>8s8hy7</td>\n",
       "    </tr>\n",
       "    <tr>\n",
       "      <th>15</th>\n",
       "      <td>15</td>\n",
       "      <td>i'm going to be getting a kyleena iud in 3 wee...</td>\n",
       "      <td>8s8l0d</td>\n",
       "    </tr>\n",
       "    <tr>\n",
       "      <th>16</th>\n",
       "      <td>16</td>\n",
       "      <td>i have had the implant in for 2 years and 4 mo...</td>\n",
       "      <td>8s8x3f</td>\n",
       "    </tr>\n",
       "    <tr>\n",
       "      <th>17</th>\n",
       "      <td>17</td>\n",
       "      <td>this is my first month on the combined pill. i...</td>\n",
       "      <td>8s8xoz</td>\n",
       "    </tr>\n",
       "    <tr>\n",
       "      <th>18</th>\n",
       "      <td>18</td>\n",
       "      <td>i got the mirena iud last year in september. i...</td>\n",
       "      <td>8s9hu2</td>\n",
       "    </tr>\n",
       "    <tr>\n",
       "      <th>19</th>\n",
       "      <td>19</td>\n",
       "      <td>i had the mirena for 3 years, which i totally ...</td>\n",
       "      <td>8s9llg</td>\n",
       "    </tr>\n",
       "    <tr>\n",
       "      <th>20</th>\n",
       "      <td>20</td>\n",
       "      <td>i was on aviane for a while and i remember it ...</td>\n",
       "      <td>8s9oqf</td>\n",
       "    </tr>\n",
       "    <tr>\n",
       "      <th>21</th>\n",
       "      <td>21</td>\n",
       "      <td>i've already browsed through some old posts on...</td>\n",
       "      <td>8s9p0f</td>\n",
       "    </tr>\n",
       "    <tr>\n",
       "      <th>22</th>\n",
       "      <td>22</td>\n",
       "      <td>im looking for advice. gf just finished period...</td>\n",
       "      <td>8s9sz7</td>\n",
       "    </tr>\n",
       "    <tr>\n",
       "      <th>23</th>\n",
       "      <td>23</td>\n",
       "      <td>no im serious. ive been on the same bcp since ...</td>\n",
       "      <td>8samx5</td>\n",
       "    </tr>\n",
       "    <tr>\n",
       "      <th>24</th>\n",
       "      <td>24</td>\n",
       "      <td>my partner and i always have unprotected sex. ...</td>\n",
       "      <td>8sanno</td>\n",
       "    </tr>\n",
       "    <tr>\n",
       "      <th>25</th>\n",
       "      <td>25</td>\n",
       "      <td>deleted</td>\n",
       "      <td>8sawsh</td>\n",
       "    </tr>\n",
       "    <tr>\n",
       "      <th>26</th>\n",
       "      <td>26</td>\n",
       "      <td>ive recently stopped taking the pill (loestrin...</td>\n",
       "      <td>8sb4qj</td>\n",
       "    </tr>\n",
       "    <tr>\n",
       "      <th>27</th>\n",
       "      <td>27</td>\n",
       "      <td>so i started tri lo marzia on june 4th and sta...</td>\n",
       "      <td>8sbfo8</td>\n",
       "    </tr>\n",
       "    <tr>\n",
       "      <th>28</th>\n",
       "      <td>28</td>\n",
       "      <td>hi everyone. apologies for formatting errors a...</td>\n",
       "      <td>8sbwap</td>\n",
       "    </tr>\n",
       "    <tr>\n",
       "      <th>29</th>\n",
       "      <td>29</td>\n",
       "      <td>i am on mylan which is an off brand of seasoni...</td>\n",
       "      <td>8sbwml</td>\n",
       "    </tr>\n",
       "    <tr>\n",
       "      <th>...</th>\n",
       "      <td>...</td>\n",
       "      <td>...</td>\n",
       "      <td>...</td>\n",
       "    </tr>\n",
       "    <tr>\n",
       "      <th>20892</th>\n",
       "      <td>20892</td>\n",
       "      <td>hi everyone. i started my very first experienc...</td>\n",
       "      <td>4p7at1</td>\n",
       "    </tr>\n",
       "    <tr>\n",
       "      <th>20893</th>\n",
       "      <td>20893</td>\n",
       "      <td>i started a new pack of birth control today bu...</td>\n",
       "      <td>4p7khc</td>\n",
       "    </tr>\n",
       "    <tr>\n",
       "      <th>20894</th>\n",
       "      <td>20894</td>\n",
       "      <td>deleted</td>\n",
       "      <td>4p7osx</td>\n",
       "    </tr>\n",
       "    <tr>\n",
       "      <th>20895</th>\n",
       "      <td>20895</td>\n",
       "      <td>deleted</td>\n",
       "      <td>4p7ugh</td>\n",
       "    </tr>\n",
       "    <tr>\n",
       "      <th>20896</th>\n",
       "      <td>20896</td>\n",
       "      <td>i have been using the patch contraception for ...</td>\n",
       "      <td>4p7wle</td>\n",
       "    </tr>\n",
       "    <tr>\n",
       "      <th>20897</th>\n",
       "      <td>20897</td>\n",
       "      <td>deleted</td>\n",
       "      <td>4p80ls</td>\n",
       "    </tr>\n",
       "    <tr>\n",
       "      <th>20898</th>\n",
       "      <td>20898</td>\n",
       "      <td>my boyfriend 24m and i 19f had sex for the fir...</td>\n",
       "      <td>4p8h96</td>\n",
       "    </tr>\n",
       "    <tr>\n",
       "      <th>20899</th>\n",
       "      <td>20899</td>\n",
       "      <td>hey everyone. i made a huge accident. last nig...</td>\n",
       "      <td>4p8o58</td>\n",
       "    </tr>\n",
       "    <tr>\n",
       "      <th>20900</th>\n",
       "      <td>20900</td>\n",
       "      <td>my girlfriend (16) and i (17) had sex 3 days a...</td>\n",
       "      <td>4p8pxx</td>\n",
       "    </tr>\n",
       "    <tr>\n",
       "      <th>20901</th>\n",
       "      <td>20901</td>\n",
       "      <td>no text available</td>\n",
       "      <td>4p98f0</td>\n",
       "    </tr>\n",
       "    <tr>\n",
       "      <th>20902</th>\n",
       "      <td>20902</td>\n",
       "      <td>hi all, first post here. my issue is basically...</td>\n",
       "      <td>4p9c9t</td>\n",
       "    </tr>\n",
       "    <tr>\n",
       "      <th>20903</th>\n",
       "      <td>20903</td>\n",
       "      <td>i had mirena inserted about half an hour ago. ...</td>\n",
       "      <td>4oytol</td>\n",
       "    </tr>\n",
       "    <tr>\n",
       "      <th>20904</th>\n",
       "      <td>20904</td>\n",
       "      <td>basically  were you breastfeeding at the time?...</td>\n",
       "      <td>4oza1r</td>\n",
       "    </tr>\n",
       "    <tr>\n",
       "      <th>20905</th>\n",
       "      <td>20905</td>\n",
       "      <td>deleted</td>\n",
       "      <td>4ozf2y</td>\n",
       "    </tr>\n",
       "    <tr>\n",
       "      <th>20906</th>\n",
       "      <td>20906</td>\n",
       "      <td>i'm scheduled to get an iud in about a month. ...</td>\n",
       "      <td>4ozt0m</td>\n",
       "    </tr>\n",
       "    <tr>\n",
       "      <th>20907</th>\n",
       "      <td>20907</td>\n",
       "      <td>deleted</td>\n",
       "      <td>4ozxz0</td>\n",
       "    </tr>\n",
       "    <tr>\n",
       "      <th>20908</th>\n",
       "      <td>20908</td>\n",
       "      <td>today i was talking to my doctor about a more ...</td>\n",
       "      <td>4p0add</td>\n",
       "    </tr>\n",
       "    <tr>\n",
       "      <th>20909</th>\n",
       "      <td>20909</td>\n",
       "      <td>deleted</td>\n",
       "      <td>4p0jph</td>\n",
       "    </tr>\n",
       "    <tr>\n",
       "      <th>20910</th>\n",
       "      <td>20910</td>\n",
       "      <td>original i thought it had broken. to be fair, ...</td>\n",
       "      <td>4p0mlb</td>\n",
       "    </tr>\n",
       "    <tr>\n",
       "      <th>20911</th>\n",
       "      <td>20911</td>\n",
       "      <td>hey guys,my girlfriend and i recently decided ...</td>\n",
       "      <td>4p13n3</td>\n",
       "    </tr>\n",
       "    <tr>\n",
       "      <th>20912</th>\n",
       "      <td>20912</td>\n",
       "      <td>hi all, i have the implanon implant and it's g...</td>\n",
       "      <td>4p17x1</td>\n",
       "    </tr>\n",
       "    <tr>\n",
       "      <th>20913</th>\n",
       "      <td>20913</td>\n",
       "      <td>i'm making the appointment to get my implant r...</td>\n",
       "      <td>4p1rwg</td>\n",
       "    </tr>\n",
       "    <tr>\n",
       "      <th>20914</th>\n",
       "      <td>20914</td>\n",
       "      <td>deleted</td>\n",
       "      <td>4p1yi6</td>\n",
       "    </tr>\n",
       "    <tr>\n",
       "      <th>20915</th>\n",
       "      <td>20915</td>\n",
       "      <td>deleted</td>\n",
       "      <td>4p1yvx</td>\n",
       "    </tr>\n",
       "    <tr>\n",
       "      <th>20916</th>\n",
       "      <td>20916</td>\n",
       "      <td>well its all in the title, but i have recently...</td>\n",
       "      <td>4p203l</td>\n",
       "    </tr>\n",
       "    <tr>\n",
       "      <th>20917</th>\n",
       "      <td>20917</td>\n",
       "      <td>deleted</td>\n",
       "      <td>4p2ded</td>\n",
       "    </tr>\n",
       "    <tr>\n",
       "      <th>20918</th>\n",
       "      <td>20918</td>\n",
       "      <td>deleted</td>\n",
       "      <td>4p2ibe</td>\n",
       "    </tr>\n",
       "    <tr>\n",
       "      <th>20919</th>\n",
       "      <td>20919</td>\n",
       "      <td>deleted</td>\n",
       "      <td>4p2n9j</td>\n",
       "    </tr>\n",
       "    <tr>\n",
       "      <th>20920</th>\n",
       "      <td>20920</td>\n",
       "      <td>deleted</td>\n",
       "      <td>4p30cy</td>\n",
       "    </tr>\n",
       "    <tr>\n",
       "      <th>20921</th>\n",
       "      <td>20921</td>\n",
       "      <td>i'm an 18 year old who's had nexplanon in for ...</td>\n",
       "      <td>4p3g2g</td>\n",
       "    </tr>\n",
       "  </tbody>\n",
       "</table>\n",
       "<p>20922 rows × 3 columns</p>\n",
       "</div>"
      ],
      "text/plain": [
       "       Unnamed: 0                                           selftext      id\n",
       "0               0  i went off birth control around the beginning ...  8s5kam\n",
       "1               1  update got my period today it was over a week ...  8s5s7t\n",
       "2               2  i got off the pill on may 27 after two years. ...  8s67mh\n",
       "3               3  it's a rather broad question and applies to an...  8s6n5g\n",
       "4               4  my bf and i recently had a little bit of a sca...  8s6r3k\n",
       "5               5  okay so today i had sex in the car (really bad...  8s6sb4\n",
       "6               6  so i've had my mirena in for just over two mon...  8s6wg7\n",
       "7               7                                  no text available  8s6wv1\n",
       "8               8  i started taking yaz last week. today i had my...  8s7d94\n",
       "9               9  currently, im unable to take the combined pill...  8s7dy6\n",
       "10             10  ive been on nexplanon 9 months on and off over...  8s7jc7\n",
       "11             11  i dont know what to do anymore, i used to be o...  8s7k20\n",
       "12             12  hi guys! looking for advice from anyway who ha...  8s87fp\n",
       "13             13  so i had a scare and im unprotected (condom br...  8s88p4\n",
       "14             14  hey huysi have been taking cerelle pill for 4 ...  8s8hy7\n",
       "15             15  i'm going to be getting a kyleena iud in 3 wee...  8s8l0d\n",
       "16             16  i have had the implant in for 2 years and 4 mo...  8s8x3f\n",
       "17             17  this is my first month on the combined pill. i...  8s8xoz\n",
       "18             18  i got the mirena iud last year in september. i...  8s9hu2\n",
       "19             19  i had the mirena for 3 years, which i totally ...  8s9llg\n",
       "20             20  i was on aviane for a while and i remember it ...  8s9oqf\n",
       "21             21  i've already browsed through some old posts on...  8s9p0f\n",
       "22             22  im looking for advice. gf just finished period...  8s9sz7\n",
       "23             23  no im serious. ive been on the same bcp since ...  8samx5\n",
       "24             24  my partner and i always have unprotected sex. ...  8sanno\n",
       "25             25                                            deleted  8sawsh\n",
       "26             26  ive recently stopped taking the pill (loestrin...  8sb4qj\n",
       "27             27  so i started tri lo marzia on june 4th and sta...  8sbfo8\n",
       "28             28  hi everyone. apologies for formatting errors a...  8sbwap\n",
       "29             29  i am on mylan which is an off brand of seasoni...  8sbwml\n",
       "...           ...                                                ...     ...\n",
       "20892       20892  hi everyone. i started my very first experienc...  4p7at1\n",
       "20893       20893  i started a new pack of birth control today bu...  4p7khc\n",
       "20894       20894                                            deleted  4p7osx\n",
       "20895       20895                                            deleted  4p7ugh\n",
       "20896       20896  i have been using the patch contraception for ...  4p7wle\n",
       "20897       20897                                            deleted  4p80ls\n",
       "20898       20898  my boyfriend 24m and i 19f had sex for the fir...  4p8h96\n",
       "20899       20899  hey everyone. i made a huge accident. last nig...  4p8o58\n",
       "20900       20900  my girlfriend (16) and i (17) had sex 3 days a...  4p8pxx\n",
       "20901       20901                                  no text available  4p98f0\n",
       "20902       20902  hi all, first post here. my issue is basically...  4p9c9t\n",
       "20903       20903  i had mirena inserted about half an hour ago. ...  4oytol\n",
       "20904       20904  basically  were you breastfeeding at the time?...  4oza1r\n",
       "20905       20905                                            deleted  4ozf2y\n",
       "20906       20906  i'm scheduled to get an iud in about a month. ...  4ozt0m\n",
       "20907       20907                                            deleted  4ozxz0\n",
       "20908       20908  today i was talking to my doctor about a more ...  4p0add\n",
       "20909       20909                                            deleted  4p0jph\n",
       "20910       20910  original i thought it had broken. to be fair, ...  4p0mlb\n",
       "20911       20911  hey guys,my girlfriend and i recently decided ...  4p13n3\n",
       "20912       20912  hi all, i have the implanon implant and it's g...  4p17x1\n",
       "20913       20913  i'm making the appointment to get my implant r...  4p1rwg\n",
       "20914       20914                                            deleted  4p1yi6\n",
       "20915       20915                                            deleted  4p1yvx\n",
       "20916       20916  well its all in the title, but i have recently...  4p203l\n",
       "20917       20917                                            deleted  4p2ded\n",
       "20918       20918                                            deleted  4p2ibe\n",
       "20919       20919                                            deleted  4p2n9j\n",
       "20920       20920                                            deleted  4p30cy\n",
       "20921       20921  i'm an 18 year old who's had nexplanon in for ...  4p3g2g\n",
       "\n",
       "[20922 rows x 3 columns]"
      ]
     },
     "execution_count": 40,
     "metadata": {},
     "output_type": "execute_result"
    }
   ],
   "source": [
    "posts"
   ]
  },
  {
   "cell_type": "code",
   "execution_count": 41,
   "metadata": {},
   "outputs": [],
   "source": [
    "reddit = posts.drop([\"Unnamed: 0\"], axis = 1)"
   ]
  },
  {
   "cell_type": "code",
   "execution_count": 51,
   "metadata": {},
   "outputs": [
    {
     "data": {
      "text/html": [
       "<div>\n",
       "<style scoped>\n",
       "    .dataframe tbody tr th:only-of-type {\n",
       "        vertical-align: middle;\n",
       "    }\n",
       "\n",
       "    .dataframe tbody tr th {\n",
       "        vertical-align: top;\n",
       "    }\n",
       "\n",
       "    .dataframe thead th {\n",
       "        text-align: right;\n",
       "    }\n",
       "</style>\n",
       "<table border=\"1\" class=\"dataframe\">\n",
       "  <thead>\n",
       "    <tr style=\"text-align: right;\">\n",
       "      <th></th>\n",
       "      <th>selftext</th>\n",
       "      <th>id</th>\n",
       "    </tr>\n",
       "  </thead>\n",
       "  <tbody>\n",
       "    <tr>\n",
       "      <th>0</th>\n",
       "      <td>i went off birth control around the beginning ...</td>\n",
       "      <td>8s5kam</td>\n",
       "    </tr>\n",
       "    <tr>\n",
       "      <th>1</th>\n",
       "      <td>update got my period today it was over a week ...</td>\n",
       "      <td>8s5s7t</td>\n",
       "    </tr>\n",
       "    <tr>\n",
       "      <th>2</th>\n",
       "      <td>i got off the pill on may 27 after two years. ...</td>\n",
       "      <td>8s67mh</td>\n",
       "    </tr>\n",
       "    <tr>\n",
       "      <th>3</th>\n",
       "      <td>it's a rather broad question and applies to an...</td>\n",
       "      <td>8s6n5g</td>\n",
       "    </tr>\n",
       "    <tr>\n",
       "      <th>4</th>\n",
       "      <td>my bf and i recently had a little bit of a sca...</td>\n",
       "      <td>8s6r3k</td>\n",
       "    </tr>\n",
       "    <tr>\n",
       "      <th>5</th>\n",
       "      <td>okay so today i had sex in the car (really bad...</td>\n",
       "      <td>8s6sb4</td>\n",
       "    </tr>\n",
       "    <tr>\n",
       "      <th>6</th>\n",
       "      <td>so i've had my mirena in for just over two mon...</td>\n",
       "      <td>8s6wg7</td>\n",
       "    </tr>\n",
       "    <tr>\n",
       "      <th>7</th>\n",
       "      <td>no text available</td>\n",
       "      <td>8s6wv1</td>\n",
       "    </tr>\n",
       "    <tr>\n",
       "      <th>8</th>\n",
       "      <td>i started taking yaz last week. today i had my...</td>\n",
       "      <td>8s7d94</td>\n",
       "    </tr>\n",
       "    <tr>\n",
       "      <th>9</th>\n",
       "      <td>currently, im unable to take the combined pill...</td>\n",
       "      <td>8s7dy6</td>\n",
       "    </tr>\n",
       "  </tbody>\n",
       "</table>\n",
       "</div>"
      ],
      "text/plain": [
       "                                            selftext      id\n",
       "0  i went off birth control around the beginning ...  8s5kam\n",
       "1  update got my period today it was over a week ...  8s5s7t\n",
       "2  i got off the pill on may 27 after two years. ...  8s67mh\n",
       "3  it's a rather broad question and applies to an...  8s6n5g\n",
       "4  my bf and i recently had a little bit of a sca...  8s6r3k\n",
       "5  okay so today i had sex in the car (really bad...  8s6sb4\n",
       "6  so i've had my mirena in for just over two mon...  8s6wg7\n",
       "7                                  no text available  8s6wv1\n",
       "8  i started taking yaz last week. today i had my...  8s7d94\n",
       "9  currently, im unable to take the combined pill...  8s7dy6"
      ]
     },
     "execution_count": 51,
     "metadata": {},
     "output_type": "execute_result"
    }
   ],
   "source": [
    "reddit.head(10)"
   ]
  },
  {
   "cell_type": "code",
   "execution_count": null,
   "metadata": {},
   "outputs": [],
   "source": [
    "no_features = 100"
   ]
  },
  {
   "cell_type": "code",
   "execution_count": null,
   "metadata": {},
   "outputs": [],
   "source": [
    "def display_topics(H, W, feature_names, documents, no_top_words, no_top_documents):\n",
    "    for topic_idx, topic in enumerate(H):\n",
    "        print(\"Topic %d:\" % (topic_idx))\n",
    "        print(\" \".join([feature_names[i]\n",
    "                        for i in topic.argsort()[:-no_top_words - 1:-1]]))\n",
    "        top_doc_indices = np.argsort( W[:,topic_idx] )[::-1][0:no_top_documents]\n",
    "        for doc_index in top_doc_indices:\n",
    "            print(documents[doc_index])"
   ]
  },
  {
   "cell_type": "code",
   "execution_count": null,
   "metadata": {},
   "outputs": [],
   "source": [
    "###Running the TF-IDF Count Vectorizer in prep for Latent Dirichlet Allocation (LDA) for topic modeling\n",
    "\n",
    "tf_vectorizer = CountVectorizer(max_df=0.95, min_df=2, max_features=no_features, stop_words='english')\n",
    "tf = tf_vectorizer.fit_transform(sentences[\"SENTENCE\"])\n",
    "tf_feature_names = tf_vectorizer.get_feature_names()"
   ]
  },
  {
   "cell_type": "code",
   "execution_count": null,
   "metadata": {},
   "outputs": [],
   "source": [
    "no_topics = 5\n",
    "\n",
    "lda_model = LatentDirichletAllocation(n_components=no_topics, max_iter=5, learning_method='online', learning_offset=50.,random_state=0).fit(tf)\n",
    "lda_W = lda_model.transform(tf)\n",
    "lda_H = lda_model.components_"
   ]
  },
  {
   "cell_type": "code",
   "execution_count": null,
   "metadata": {},
   "outputs": [],
   "source": [
    "no_top_words = 5\n",
    "no_top_documents = 2\n",
    "display_topics(lda_H, lda_W, tf_feature_names, sentences[\"SENTENCE\"], no_top_words, no_top_documents)"
   ]
  },
  {
   "cell_type": "code",
   "execution_count": null,
   "metadata": {
    "scrolled": true
   },
   "outputs": [],
   "source": [
    "def display_topics(model, feature_names, no_top_words):\n",
    "    for topic_idx, topic in enumerate(model.components_):\n",
    "        print(\"Topic %d:\" % (topic_idx))\n",
    "        print(\" \".join([feature_names[i]\n",
    "                        for i in topic.argsort()[:-no_top_words - 1:-1]]))\n",
    "\n",
    "no_top_words = 15\n",
    "display_topics(lda, tf_feature_names, no_top_words)"
   ]
  },
  {
   "cell_type": "markdown",
   "metadata": {},
   "source": [
    "This is really cool! I would love to display the topics associated with the side effect & the contraceptive. Going to try doing that below!"
   ]
  },
  {
   "cell_type": "markdown",
   "metadata": {},
   "source": [
    "# Subsetting posts by contraceptive first."
   ]
  },
  {
   "cell_type": "code",
   "execution_count": 34,
   "metadata": {
    "scrolled": true
   },
   "outputs": [],
   "source": [
    "##Trying to automate dataframe extraction with a function and for loop. NOT CURRENTLY WORKING.\n",
    "#FIX LATER.\n",
    "##There has to be a quick way to do this. Spend time on this later. \n",
    "types = [\"iud\", \"pill\", \"patch\", \"ring\", \"tubal ligation\", \"condom\", \"implant\", \"depo\"]\n",
    "def counting_types(dataFrame, text_field, types):\n",
    "    d = {}\n",
    "    for i in range(dataFrame.shape[0]):\n",
    "        entry = dataFrame[text_field][i]\n",
    "        for j in range(len(types)):\n",
    "#             print(entry)\n",
    "            this_type = types[j]\n",
    "            if this_type in entry:\n",
    "#                 print(this_effect)\n",
    "                d[this_type] = pd.DataFrame(dataFrame[text_field].str.contains(this_type))\n",
    "#                 number[i,j] = 1\n",
    "    return d"
   ]
  },
  {
   "cell_type": "code",
   "execution_count": null,
   "metadata": {},
   "outputs": [],
   "source": [
    "type_count = counting_types(reddit, \"selftext\", types)"
   ]
  },
  {
   "cell_type": "code",
   "execution_count": null,
   "metadata": {},
   "outputs": [],
   "source": [
    "IUD = reddit[reddit['selftext'].str.contains(\"iud\", na = False)]\n",
    "IUD = pd.DataFrame(IUD)"
   ]
  },
  {
   "cell_type": "code",
   "execution_count": null,
   "metadata": {},
   "outputs": [],
   "source": [
    "filters = [(\"pill\", False), (\"iud\", True), (\"patch\", False), (\"condom\", False), (\"ring\", False), \n",
    "           (\"tubal ligation\", False), (\"depo\", False), (\"implant\", False)]\n",
    "new_IUD = reduce(lambda IUD, f: IUD[IUD[\"selftext\"].str.contains(f[0]) == f[1]], filters, IUD)\n"
   ]
  },
  {
   "cell_type": "code",
   "execution_count": null,
   "metadata": {},
   "outputs": [],
   "source": [
    "#reset index for subsetted dataframe\n",
    "IUD_1 = new_IUD.reset_index(drop=True)"
   ]
  },
  {
   "cell_type": "code",
   "execution_count": 53,
   "metadata": {},
   "outputs": [
    {
     "data": {
      "text/plain": [
       "Index(['selftext', 'id'], dtype='object')"
      ]
     },
     "execution_count": 53,
     "metadata": {},
     "output_type": "execute_result"
    }
   ],
   "source": [
    "reddit.columns"
   ]
  },
  {
   "cell_type": "code",
   "execution_count": null,
   "metadata": {},
   "outputs": [],
   "source": [
    "for i in range(dataFrame.shape[0]):\n",
    "        entry = dataFrame[text_field][i]"
   ]
  },
  {
   "cell_type": "code",
   "execution_count": 80,
   "metadata": {},
   "outputs": [],
   "source": [
    "types = [\"iud\", \"pill\", \"patch\", \"ring\", \"tubal ligation\", \"condom\", \"implant\", \"depo\"]\n",
    "\n",
    "def counting_types2(dataFrame, item):\n",
    "   \n",
    "    df = dataFrame[dataFrame[\"selftext\"].str.contains(item)]\n",
    "     \n",
    "    for word in types:\n",
    "        if word != item:\n",
    "            df = df[~df[\"selftext\"].str.contains(word)]\n",
    "\n",
    "    return df"
   ]
  },
  {
   "cell_type": "code",
   "execution_count": 81,
   "metadata": {},
   "outputs": [],
   "source": [
    "d = {}\n",
    "for entry in types:\n",
    "    d[entry] = counting_types2(reddit, entry)"
   ]
  },
  {
   "cell_type": "code",
   "execution_count": 82,
   "metadata": {},
   "outputs": [
    {
     "data": {
      "text/html": [
       "<div>\n",
       "<style scoped>\n",
       "    .dataframe tbody tr th:only-of-type {\n",
       "        vertical-align: middle;\n",
       "    }\n",
       "\n",
       "    .dataframe tbody tr th {\n",
       "        vertical-align: top;\n",
       "    }\n",
       "\n",
       "    .dataframe thead th {\n",
       "        text-align: right;\n",
       "    }\n",
       "</style>\n",
       "<table border=\"1\" class=\"dataframe\">\n",
       "  <thead>\n",
       "    <tr style=\"text-align: right;\">\n",
       "      <th></th>\n",
       "      <th>selftext</th>\n",
       "      <th>id</th>\n",
       "    </tr>\n",
       "  </thead>\n",
       "  <tbody>\n",
       "    <tr>\n",
       "      <th>2</th>\n",
       "      <td>i got off the pill on may 27 after two years. ...</td>\n",
       "      <td>8s67mh</td>\n",
       "    </tr>\n",
       "    <tr>\n",
       "      <th>4</th>\n",
       "      <td>my bf and i recently had a little bit of a sca...</td>\n",
       "      <td>8s6r3k</td>\n",
       "    </tr>\n",
       "    <tr>\n",
       "      <th>14</th>\n",
       "      <td>hey huysi have been taking cerelle pill for 4 ...</td>\n",
       "      <td>8s8hy7</td>\n",
       "    </tr>\n",
       "    <tr>\n",
       "      <th>17</th>\n",
       "      <td>this is my first month on the combined pill. i...</td>\n",
       "      <td>8s8xoz</td>\n",
       "    </tr>\n",
       "    <tr>\n",
       "      <th>23</th>\n",
       "      <td>no im serious. ive been on the same bcp since ...</td>\n",
       "      <td>8samx5</td>\n",
       "    </tr>\n",
       "    <tr>\n",
       "      <th>29</th>\n",
       "      <td>i am on mylan which is an off brand of seasoni...</td>\n",
       "      <td>8sbwml</td>\n",
       "    </tr>\n",
       "    <tr>\n",
       "      <th>32</th>\n",
       "      <td>so ive been on lolo combination pill birth con...</td>\n",
       "      <td>8scl6f</td>\n",
       "    </tr>\n",
       "    <tr>\n",
       "      <th>35</th>\n",
       "      <td>i started a new pack 3 days ago. the first day...</td>\n",
       "      <td>8sd0m2</td>\n",
       "    </tr>\n",
       "    <tr>\n",
       "      <th>45</th>\n",
       "      <td>my boobs grew when i went on the pill, if i st...</td>\n",
       "      <td>8senc1</td>\n",
       "    </tr>\n",
       "    <tr>\n",
       "      <th>47</th>\n",
       "      <td>i am on gianvi (28 day regimen). i have taken ...</td>\n",
       "      <td>8rwbfp</td>\n",
       "    </tr>\n",
       "    <tr>\n",
       "      <th>62</th>\n",
       "      <td>im on my 2nd pack of viorele. on my first pack...</td>\n",
       "      <td>8rzoa7</td>\n",
       "    </tr>\n",
       "    <tr>\n",
       "      <th>70</th>\n",
       "      <td>so i thought i forgot to take a pill a couple ...</td>\n",
       "      <td>8s1md8</td>\n",
       "    </tr>\n",
       "    <tr>\n",
       "      <th>77</th>\n",
       "      <td>hi all. im on mobile so i apologize if the for...</td>\n",
       "      <td>8s2ahq</td>\n",
       "    </tr>\n",
       "    <tr>\n",
       "      <th>82</th>\n",
       "      <td>hi therefor the past year and a half i have be...</td>\n",
       "      <td>8s2zx6</td>\n",
       "    </tr>\n",
       "    <tr>\n",
       "      <th>88</th>\n",
       "      <td>hi all,i have an event next weekend starting f...</td>\n",
       "      <td>8s3z1j</td>\n",
       "    </tr>\n",
       "    <tr>\n",
       "      <th>91</th>\n",
       "      <td>i just got kyleena on friday after months of w...</td>\n",
       "      <td>8s4m3i</td>\n",
       "    </tr>\n",
       "    <tr>\n",
       "      <th>97</th>\n",
       "      <td>so i know you are protected on the placebo wee...</td>\n",
       "      <td>8rp0ka</td>\n",
       "    </tr>\n",
       "    <tr>\n",
       "      <th>100</th>\n",
       "      <td>i have been on the pill for 5 months now and h...</td>\n",
       "      <td>8rp7nn</td>\n",
       "    </tr>\n",
       "    <tr>\n",
       "      <th>102</th>\n",
       "      <td>so, i started the birth control estarylla offi...</td>\n",
       "      <td>8rpbyw</td>\n",
       "    </tr>\n",
       "    <tr>\n",
       "      <th>113</th>\n",
       "      <td>i got my tubes tied this past thursday! yay be...</td>\n",
       "      <td>8rs0n2</td>\n",
       "    </tr>\n",
       "    <tr>\n",
       "      <th>117</th>\n",
       "      <td>my girlfriend was late taking her pill on frid...</td>\n",
       "      <td>8rsoq1</td>\n",
       "    </tr>\n",
       "    <tr>\n",
       "      <th>126</th>\n",
       "      <td>ive been taking birth control for a year and a...</td>\n",
       "      <td>8rvbkb</td>\n",
       "    </tr>\n",
       "    <tr>\n",
       "      <th>131</th>\n",
       "      <td>i ran out of birth control (sprintec, 21 day b...</td>\n",
       "      <td>8rvs89</td>\n",
       "    </tr>\n",
       "    <tr>\n",
       "      <th>132</th>\n",
       "      <td>hello, i'm on the larissia pill. i started my ...</td>\n",
       "      <td>8rvyfi</td>\n",
       "    </tr>\n",
       "    <tr>\n",
       "      <th>134</th>\n",
       "      <td>hello! i've been on the pill off and on for ab...</td>\n",
       "      <td>8rw7qb</td>\n",
       "    </tr>\n",
       "    <tr>\n",
       "      <th>139</th>\n",
       "      <td>so i started taking larissia combination pill ...</td>\n",
       "      <td>8rj41d</td>\n",
       "    </tr>\n",
       "    <tr>\n",
       "      <th>144</th>\n",
       "      <td>i am sick of the nasty side effects of this bi...</td>\n",
       "      <td>8rjpk0</td>\n",
       "    </tr>\n",
       "    <tr>\n",
       "      <th>149</th>\n",
       "      <td>my withdrawal bleed is set to come on around t...</td>\n",
       "      <td>8rkfax</td>\n",
       "    </tr>\n",
       "    <tr>\n",
       "      <th>150</th>\n",
       "      <td>i hate my period. it sends me to the er monthl...</td>\n",
       "      <td>8rki77</td>\n",
       "    </tr>\n",
       "    <tr>\n",
       "      <th>170</th>\n",
       "      <td>im 22 and ive been on camrese for i dont know,...</td>\n",
       "      <td>8ro0ha</td>\n",
       "    </tr>\n",
       "    <tr>\n",
       "      <th>...</th>\n",
       "      <td>...</td>\n",
       "      <td>...</td>\n",
       "    </tr>\n",
       "    <tr>\n",
       "      <th>20699</th>\n",
       "      <td>should i take plan b, or am i protected? any a...</td>\n",
       "      <td>4qrrok</td>\n",
       "    </tr>\n",
       "    <tr>\n",
       "      <th>20701</th>\n",
       "      <td>pretty self explanatory. i'd just like to know...</td>\n",
       "      <td>4qsuf3</td>\n",
       "    </tr>\n",
       "    <tr>\n",
       "      <th>20702</th>\n",
       "      <td>hello, throwaway account as i don't want this ...</td>\n",
       "      <td>4qsxb8</td>\n",
       "    </tr>\n",
       "    <tr>\n",
       "      <th>20725</th>\n",
       "      <td>i took the morning after pill around 3 weeks a...</td>\n",
       "      <td>4qelym</td>\n",
       "    </tr>\n",
       "    <tr>\n",
       "      <th>20729</th>\n",
       "      <td>hi. last october i got off of bc and since the...</td>\n",
       "      <td>4qg1cg</td>\n",
       "    </tr>\n",
       "    <tr>\n",
       "      <th>20730</th>\n",
       "      <td>anyone knows what is the difference between th...</td>\n",
       "      <td>4qg9bs</td>\n",
       "    </tr>\n",
       "    <tr>\n",
       "      <th>20752</th>\n",
       "      <td>hey. starting birth control for the first time...</td>\n",
       "      <td>4qbw2a</td>\n",
       "    </tr>\n",
       "    <tr>\n",
       "      <th>20753</th>\n",
       "      <td>i've been on the pill for about 2 years and my...</td>\n",
       "      <td>4qcx8j</td>\n",
       "    </tr>\n",
       "    <tr>\n",
       "      <th>20754</th>\n",
       "      <td>they only told me so much and i have the appoi...</td>\n",
       "      <td>4qcz4b</td>\n",
       "    </tr>\n",
       "    <tr>\n",
       "      <th>20756</th>\n",
       "      <td>so i have a mild case of salmonella or some ty...</td>\n",
       "      <td>4qdgi6</td>\n",
       "    </tr>\n",
       "    <tr>\n",
       "      <th>20766</th>\n",
       "      <td>had unprotected sex on last day of placebo wee...</td>\n",
       "      <td>4q3i36</td>\n",
       "    </tr>\n",
       "    <tr>\n",
       "      <th>20779</th>\n",
       "      <td>i've had mirena for about 3 years now, and my ...</td>\n",
       "      <td>4q5a6o</td>\n",
       "    </tr>\n",
       "    <tr>\n",
       "      <th>20785</th>\n",
       "      <td>i've been on it for two weeks and i'm feeling ...</td>\n",
       "      <td>4q7382</td>\n",
       "    </tr>\n",
       "    <tr>\n",
       "      <th>20791</th>\n",
       "      <td>my period has been late this month so since i ...</td>\n",
       "      <td>4pxk56</td>\n",
       "    </tr>\n",
       "    <tr>\n",
       "      <th>20793</th>\n",
       "      <td>hi there,i am a 22f who has been taking the le...</td>\n",
       "      <td>4py19i</td>\n",
       "    </tr>\n",
       "    <tr>\n",
       "      <th>20796</th>\n",
       "      <td>i've been posting here quite a bit, so i am on...</td>\n",
       "      <td>4pzo57</td>\n",
       "    </tr>\n",
       "    <tr>\n",
       "      <th>20797</th>\n",
       "      <td>i've been on this pill for almost 5 months, an...</td>\n",
       "      <td>4q0oe4</td>\n",
       "    </tr>\n",
       "    <tr>\n",
       "      <th>20799</th>\n",
       "      <td>in december of 2015, i had an ovarian cyst rem...</td>\n",
       "      <td>4q0tor</td>\n",
       "    </tr>\n",
       "    <tr>\n",
       "      <th>20814</th>\n",
       "      <td>i'm on estarylla. i just finished my second we...</td>\n",
       "      <td>4ptlyf</td>\n",
       "    </tr>\n",
       "    <tr>\n",
       "      <th>20818</th>\n",
       "      <td>so i'm on the pill but i just suck at taking i...</td>\n",
       "      <td>4puekj</td>\n",
       "    </tr>\n",
       "    <tr>\n",
       "      <th>20823</th>\n",
       "      <td>i got the mirena two years ago in hopes of it ...</td>\n",
       "      <td>4pvizh</td>\n",
       "    </tr>\n",
       "    <tr>\n",
       "      <th>20828</th>\n",
       "      <td>so i'm taking microgestin oral birth control. ...</td>\n",
       "      <td>4po0c1</td>\n",
       "    </tr>\n",
       "    <tr>\n",
       "      <th>20835</th>\n",
       "      <td>so, i've been on apri for about 3 years and it...</td>\n",
       "      <td>4ppa8t</td>\n",
       "    </tr>\n",
       "    <tr>\n",
       "      <th>20850</th>\n",
       "      <td>i was switched to the mylan generic birth cont...</td>\n",
       "      <td>4piwe2</td>\n",
       "    </tr>\n",
       "    <tr>\n",
       "      <th>20854</th>\n",
       "      <td>hello,i've been on sprintec for almost a year ...</td>\n",
       "      <td>4pjv87</td>\n",
       "    </tr>\n",
       "    <tr>\n",
       "      <th>20873</th>\n",
       "      <td>22f here using a throwaway.i take the minipill...</td>\n",
       "      <td>4pe0od</td>\n",
       "    </tr>\n",
       "    <tr>\n",
       "      <th>20877</th>\n",
       "      <td>hi, and sorry for the misspelling, i'm not a n...</td>\n",
       "      <td>4peu2s</td>\n",
       "    </tr>\n",
       "    <tr>\n",
       "      <th>20883</th>\n",
       "      <td>so i recently started taking a new brand of mi...</td>\n",
       "      <td>4p56c7</td>\n",
       "    </tr>\n",
       "    <tr>\n",
       "      <th>20885</th>\n",
       "      <td>sorry if this has been asked a lot before. i'v...</td>\n",
       "      <td>4p5g8t</td>\n",
       "    </tr>\n",
       "    <tr>\n",
       "      <th>20899</th>\n",
       "      <td>hey everyone. i made a huge accident. last nig...</td>\n",
       "      <td>4p8o58</td>\n",
       "    </tr>\n",
       "  </tbody>\n",
       "</table>\n",
       "<p>2597 rows × 2 columns</p>\n",
       "</div>"
      ],
      "text/plain": [
       "                                                selftext      id\n",
       "2      i got off the pill on may 27 after two years. ...  8s67mh\n",
       "4      my bf and i recently had a little bit of a sca...  8s6r3k\n",
       "14     hey huysi have been taking cerelle pill for 4 ...  8s8hy7\n",
       "17     this is my first month on the combined pill. i...  8s8xoz\n",
       "23     no im serious. ive been on the same bcp since ...  8samx5\n",
       "29     i am on mylan which is an off brand of seasoni...  8sbwml\n",
       "32     so ive been on lolo combination pill birth con...  8scl6f\n",
       "35     i started a new pack 3 days ago. the first day...  8sd0m2\n",
       "45     my boobs grew when i went on the pill, if i st...  8senc1\n",
       "47     i am on gianvi (28 day regimen). i have taken ...  8rwbfp\n",
       "62     im on my 2nd pack of viorele. on my first pack...  8rzoa7\n",
       "70     so i thought i forgot to take a pill a couple ...  8s1md8\n",
       "77     hi all. im on mobile so i apologize if the for...  8s2ahq\n",
       "82     hi therefor the past year and a half i have be...  8s2zx6\n",
       "88     hi all,i have an event next weekend starting f...  8s3z1j\n",
       "91     i just got kyleena on friday after months of w...  8s4m3i\n",
       "97     so i know you are protected on the placebo wee...  8rp0ka\n",
       "100    i have been on the pill for 5 months now and h...  8rp7nn\n",
       "102    so, i started the birth control estarylla offi...  8rpbyw\n",
       "113    i got my tubes tied this past thursday! yay be...  8rs0n2\n",
       "117    my girlfriend was late taking her pill on frid...  8rsoq1\n",
       "126    ive been taking birth control for a year and a...  8rvbkb\n",
       "131    i ran out of birth control (sprintec, 21 day b...  8rvs89\n",
       "132    hello, i'm on the larissia pill. i started my ...  8rvyfi\n",
       "134    hello! i've been on the pill off and on for ab...  8rw7qb\n",
       "139    so i started taking larissia combination pill ...  8rj41d\n",
       "144    i am sick of the nasty side effects of this bi...  8rjpk0\n",
       "149    my withdrawal bleed is set to come on around t...  8rkfax\n",
       "150    i hate my period. it sends me to the er monthl...  8rki77\n",
       "170    im 22 and ive been on camrese for i dont know,...  8ro0ha\n",
       "...                                                  ...     ...\n",
       "20699  should i take plan b, or am i protected? any a...  4qrrok\n",
       "20701  pretty self explanatory. i'd just like to know...  4qsuf3\n",
       "20702  hello, throwaway account as i don't want this ...  4qsxb8\n",
       "20725  i took the morning after pill around 3 weeks a...  4qelym\n",
       "20729  hi. last october i got off of bc and since the...  4qg1cg\n",
       "20730  anyone knows what is the difference between th...  4qg9bs\n",
       "20752  hey. starting birth control for the first time...  4qbw2a\n",
       "20753  i've been on the pill for about 2 years and my...  4qcx8j\n",
       "20754  they only told me so much and i have the appoi...  4qcz4b\n",
       "20756  so i have a mild case of salmonella or some ty...  4qdgi6\n",
       "20766  had unprotected sex on last day of placebo wee...  4q3i36\n",
       "20779  i've had mirena for about 3 years now, and my ...  4q5a6o\n",
       "20785  i've been on it for two weeks and i'm feeling ...  4q7382\n",
       "20791  my period has been late this month so since i ...  4pxk56\n",
       "20793  hi there,i am a 22f who has been taking the le...  4py19i\n",
       "20796  i've been posting here quite a bit, so i am on...  4pzo57\n",
       "20797  i've been on this pill for almost 5 months, an...  4q0oe4\n",
       "20799  in december of 2015, i had an ovarian cyst rem...  4q0tor\n",
       "20814  i'm on estarylla. i just finished my second we...  4ptlyf\n",
       "20818  so i'm on the pill but i just suck at taking i...  4puekj\n",
       "20823  i got the mirena two years ago in hopes of it ...  4pvizh\n",
       "20828  so i'm taking microgestin oral birth control. ...  4po0c1\n",
       "20835  so, i've been on apri for about 3 years and it...  4ppa8t\n",
       "20850  i was switched to the mylan generic birth cont...  4piwe2\n",
       "20854  hello,i've been on sprintec for almost a year ...  4pjv87\n",
       "20873  22f here using a throwaway.i take the minipill...  4pe0od\n",
       "20877  hi, and sorry for the misspelling, i'm not a n...  4peu2s\n",
       "20883  so i recently started taking a new brand of mi...  4p56c7\n",
       "20885  sorry if this has been asked a lot before. i'v...  4p5g8t\n",
       "20899  hey everyone. i made a huge accident. last nig...  4p8o58\n",
       "\n",
       "[2597 rows x 2 columns]"
      ]
     },
     "execution_count": 82,
     "metadata": {},
     "output_type": "execute_result"
    }
   ],
   "source": [
    "d[\"pill\"]"
   ]
  },
  {
   "cell_type": "code",
   "execution_count": 78,
   "metadata": {},
   "outputs": [
    {
     "name": "stdout",
     "output_type": "stream",
     "text": [
      "20922\n",
      "6673\n",
      "4975\n",
      "4898\n",
      "3343\n",
      "3343\n",
      "2841\n",
      "2655\n",
      "2597\n",
      "20922\n"
     ]
    },
    {
     "data": {
      "text/html": [
       "<div>\n",
       "<style scoped>\n",
       "    .dataframe tbody tr th:only-of-type {\n",
       "        vertical-align: middle;\n",
       "    }\n",
       "\n",
       "    .dataframe tbody tr th {\n",
       "        vertical-align: top;\n",
       "    }\n",
       "\n",
       "    .dataframe thead th {\n",
       "        text-align: right;\n",
       "    }\n",
       "</style>\n",
       "<table border=\"1\" class=\"dataframe\">\n",
       "  <thead>\n",
       "    <tr style=\"text-align: right;\">\n",
       "      <th></th>\n",
       "      <th>selftext</th>\n",
       "      <th>id</th>\n",
       "    </tr>\n",
       "  </thead>\n",
       "  <tbody>\n",
       "    <tr>\n",
       "      <th>2</th>\n",
       "      <td>i got off the pill on may 27 after two years. ...</td>\n",
       "      <td>8s67mh</td>\n",
       "    </tr>\n",
       "    <tr>\n",
       "      <th>4</th>\n",
       "      <td>my bf and i recently had a little bit of a sca...</td>\n",
       "      <td>8s6r3k</td>\n",
       "    </tr>\n",
       "    <tr>\n",
       "      <th>14</th>\n",
       "      <td>hey huysi have been taking cerelle pill for 4 ...</td>\n",
       "      <td>8s8hy7</td>\n",
       "    </tr>\n",
       "    <tr>\n",
       "      <th>17</th>\n",
       "      <td>this is my first month on the combined pill. i...</td>\n",
       "      <td>8s8xoz</td>\n",
       "    </tr>\n",
       "    <tr>\n",
       "      <th>23</th>\n",
       "      <td>no im serious. ive been on the same bcp since ...</td>\n",
       "      <td>8samx5</td>\n",
       "    </tr>\n",
       "  </tbody>\n",
       "</table>\n",
       "</div>"
      ],
      "text/plain": [
       "                                             selftext      id\n",
       "2   i got off the pill on may 27 after two years. ...  8s67mh\n",
       "4   my bf and i recently had a little bit of a sca...  8s6r3k\n",
       "14  hey huysi have been taking cerelle pill for 4 ...  8s8hy7\n",
       "17  this is my first month on the combined pill. i...  8s8xoz\n",
       "23  no im serious. ive been on the same bcp since ...  8samx5"
      ]
     },
     "execution_count": 78,
     "metadata": {},
     "output_type": "execute_result"
    }
   ],
   "source": [
    "pill_df = counting_types2(reddit, \"pill\")\n",
    "pill_df.head()"
   ]
  },
  {
   "cell_type": "code",
   "execution_count": 35,
   "metadata": {},
   "outputs": [],
   "source": [
    "pills = reddit[reddit['selftext'].str.contains(\"pill\", na = False)]\n",
    "pills = pd.DataFrame(pills)\n",
    "# pill.to_csv('pill_Data.csv')\n",
    "\n",
    "filters_pill = [(\"pill\", True), (\"iud\", False), (\"patch\", False), (\"condom\", False), (\"ring\", False), \n",
    "           (\"tubal ligation\", False), (\"depo\", False), (\"implant\", False)]\n",
    "new_pill = reduce(lambda pills, f: pills[pills[\"selftext\"].str.contains(f[0]) == f[1]], filters_pill, pills)\n",
    "\n",
    "#reset index for subsetted dataframe\n",
    "pills_1 = new_pill.reset_index(drop=True)"
   ]
  },
  {
   "cell_type": "code",
   "execution_count": 36,
   "metadata": {},
   "outputs": [
    {
     "data": {
      "text/html": [
       "<div>\n",
       "<style scoped>\n",
       "    .dataframe tbody tr th:only-of-type {\n",
       "        vertical-align: middle;\n",
       "    }\n",
       "\n",
       "    .dataframe tbody tr th {\n",
       "        vertical-align: top;\n",
       "    }\n",
       "\n",
       "    .dataframe thead th {\n",
       "        text-align: right;\n",
       "    }\n",
       "</style>\n",
       "<table border=\"1\" class=\"dataframe\">\n",
       "  <thead>\n",
       "    <tr style=\"text-align: right;\">\n",
       "      <th></th>\n",
       "      <th>selftext</th>\n",
       "      <th>id</th>\n",
       "    </tr>\n",
       "  </thead>\n",
       "  <tbody>\n",
       "    <tr>\n",
       "      <th>0</th>\n",
       "      <td>I got off the pill on May 27 after two years. ...</td>\n",
       "      <td>8s67mh</td>\n",
       "    </tr>\n",
       "    <tr>\n",
       "      <th>1</th>\n",
       "      <td>My bf and I recently had a little bit of a sca...</td>\n",
       "      <td>8s6r3k</td>\n",
       "    </tr>\n",
       "    <tr>\n",
       "      <th>2</th>\n",
       "      <td>Hi guys! Looking for advice from anyway who ha...</td>\n",
       "      <td>8s87fp</td>\n",
       "    </tr>\n",
       "    <tr>\n",
       "      <th>3</th>\n",
       "      <td>Hey huysI have been taking Cerelle pill for 4 ...</td>\n",
       "      <td>8s8hy7</td>\n",
       "    </tr>\n",
       "    <tr>\n",
       "      <th>4</th>\n",
       "      <td>This is my first month on the combined pill. I...</td>\n",
       "      <td>8s8xoz</td>\n",
       "    </tr>\n",
       "    <tr>\n",
       "      <th>5</th>\n",
       "      <td>Im looking for advice. Gf just finished period...</td>\n",
       "      <td>8s9sz7</td>\n",
       "    </tr>\n",
       "    <tr>\n",
       "      <th>6</th>\n",
       "      <td>No Im serious. Ive been on the same BCP since ...</td>\n",
       "      <td>8samx5</td>\n",
       "    </tr>\n",
       "    <tr>\n",
       "      <th>7</th>\n",
       "      <td>I am on mylan which is an off brand of seasoni...</td>\n",
       "      <td>8sbwml</td>\n",
       "    </tr>\n",
       "    <tr>\n",
       "      <th>8</th>\n",
       "      <td>So Ive been on lolo combination pill birth con...</td>\n",
       "      <td>8scl6f</td>\n",
       "    </tr>\n",
       "    <tr>\n",
       "      <th>9</th>\n",
       "      <td>I started a new pack 3 days ago. The first day...</td>\n",
       "      <td>8sd0m2</td>\n",
       "    </tr>\n",
       "  </tbody>\n",
       "</table>\n",
       "</div>"
      ],
      "text/plain": [
       "                                            selftext      id\n",
       "0  I got off the pill on May 27 after two years. ...  8s67mh\n",
       "1  My bf and I recently had a little bit of a sca...  8s6r3k\n",
       "2  Hi guys! Looking for advice from anyway who ha...  8s87fp\n",
       "3  Hey huysI have been taking Cerelle pill for 4 ...  8s8hy7\n",
       "4  This is my first month on the combined pill. I...  8s8xoz\n",
       "5  Im looking for advice. Gf just finished period...  8s9sz7\n",
       "6  No Im serious. Ive been on the same BCP since ...  8samx5\n",
       "7  I am on mylan which is an off brand of seasoni...  8sbwml\n",
       "8  So Ive been on lolo combination pill birth con...  8scl6f\n",
       "9  I started a new pack 3 days ago. The first day...  8sd0m2"
      ]
     },
     "execution_count": 36,
     "metadata": {},
     "output_type": "execute_result"
    }
   ],
   "source": [
    "pills_1.head(10)"
   ]
  },
  {
   "cell_type": "code",
   "execution_count": null,
   "metadata": {},
   "outputs": [],
   "source": [
    "condom = reddit[reddit['selftext'].str.contains(\"condoms\", na = False)]\n",
    "condom = pd.DataFrame(condom)\n",
    "# condom.to_csv('condom_Data.csv')\n",
    "\n",
    "filters_condom = [(\"pill\", False), (\"iud\", False), (\"patch\", False), (\"condoms\", True), (\"ring\", False), \n",
    "           (\"tubal ligation\", False), (\"depo\", False), (\"implant\", False)]\n",
    "new_condom = reduce(lambda condom, f: condom[condom[\"selftext\"].str.contains(f[0]) == f[1]], filters_condom, condom)\n",
    "\n",
    "\n",
    "#reset index for subsetted dataframe\n",
    "condom_1 = new_condom.reset_index(drop=True)"
   ]
  },
  {
   "cell_type": "code",
   "execution_count": null,
   "metadata": {},
   "outputs": [],
   "source": [
    "patch = reddit[reddit['selftext'].str.contains(\"patch\", na = False)]\n",
    "patch = pd.DataFrame(patch)\n",
    "# patch.to_csv('patch_Data.csv')\n",
    "\n",
    "filters_patch = [(\"pill\",False), (\"iud\", False), (\"patch\", True), (\"condom\", False), (\"ring\", False), \n",
    "           (\"tubal ligation\", False), (\"depo\", False), (\"implant\", False)]\n",
    "new_patch = reduce(lambda patch, f: patch[patch[\"selftext\"].str.contains(f[0]) == f[1]], filters_patch, patch)\n",
    "\n",
    "#reset index for subsetted dataframe\n",
    "patch_1 = new_patch.reset_index(drop=True)"
   ]
  },
  {
   "cell_type": "code",
   "execution_count": null,
   "metadata": {},
   "outputs": [],
   "source": [
    "implant = reddit[reddit['selftext'].str.contains(\"implant\", na = False)]\n",
    "implant = pd.DataFrame(implant)\n",
    "# implant.to_csv('implant_Data.csv')\n",
    "\n",
    "filters_implant = [(\"pill\",False), (\"iud\", False), (\"patch\", False), (\"condom\", False), (\"ring\", False), \n",
    "           (\"tubal ligation\", False), (\"depo\", False), (\"implant\", True)]\n",
    "new_implant = reduce(lambda implant, f: implant[implant[\"selftext\"].str.contains(f[0]) == f[1]], filters_implant, implant)\n",
    "\n",
    "#reset index for subsetted dataframe\n",
    "implant_1 = new_implant.reset_index(drop=True)"
   ]
  },
  {
   "cell_type": "code",
   "execution_count": null,
   "metadata": {},
   "outputs": [],
   "source": [
    "ring = reddit[reddit['selftext'].str.contains(\"ring\", na = False)]\n",
    "ring = pd.DataFrame(ring)\n",
    "# ring.to_csv('ring_Data.csv')\n",
    "\n",
    "filters_ring = [(\"pill\",False), (\"iud\", False), (\"patch\", False), (\"condom\", False), (\"ring\", True), \n",
    "           (\"tubal ligation\", False), (\"depo\", False), (\"implant\", False)]\n",
    "new_ring = reduce(lambda ring, f: ring[ring[\"selftext\"].str.contains(f[0]) == f[1]], filters_ring, ring)\n",
    "\n",
    "#reset index for subsetted dataframe\n",
    "ring_1 = new_ring.reset_index(drop=True)"
   ]
  },
  {
   "cell_type": "code",
   "execution_count": null,
   "metadata": {},
   "outputs": [],
   "source": [
    "depo = reddit[reddit['selftext'].str.contains(\"depo\", na = False)]\n",
    "depo = pd.DataFrame(depo)\n",
    "# ring.to_csv('ring_Data.csv')\n",
    "\n",
    "filters_depo = [(\"pill\",False), (\"iud\", False), (\"patch\", False), (\"condom\", False), (\"ring\", False), \n",
    "           (\"tubal ligation\", False), (\"depo\", True), (\"implant\", False)]\n",
    "new_depo = reduce(lambda depo, f: depo[depo[\"selftext\"].str.contains(f[0]) == f[1]], filters_depo, depo)\n",
    "\n",
    "#reset index for subsetted dataframe\n",
    "depo_1 = new_depo.reset_index(drop=True)"
   ]
  },
  {
   "cell_type": "code",
   "execution_count": null,
   "metadata": {},
   "outputs": [],
   "source": [
    "tubes_tied = reddit[reddit['selftext'].str.contains(\"tube\", na = False)]\n",
    "tubes_tied = pd.DataFrame(tubes_tied)\n",
    "# tubes_tied.to_csv('tubes_tied_Data.csv')\n",
    "\n",
    "filters_tubes = [(\"pill\",False), (\"iud\", False), (\"patch\", False), (\"condom\", False), (\"ring\", False), \n",
    "           (\"tube\", True), (\"depo\", False), (\"implant\", False)]\n",
    "new_tubes = reduce(lambda tubes_tied, f: tubes_tied[tubes_tied[\"selftext\"].str.contains(f[0]) == f[1]], filters_tubes, tubes_tied)\n",
    "\n",
    "\n",
    "#reset index for subsetted dataframe\n",
    "tubes_tied_1 = new_tubes.reset_index(drop=True)"
   ]
  },
  {
   "cell_type": "markdown",
   "metadata": {},
   "source": [
    "# Let's compare topic modeling with an LDA vs an NMF with the posts from each contraceptive type."
   ]
  },
  {
   "cell_type": "code",
   "execution_count": null,
   "metadata": {},
   "outputs": [],
   "source": [
    "no_features = 100    # Restrict the number of terms in the bag of words matrix to 100\n",
    "no_topics = 10       # Create 10 topics\n",
    "no_top_words = 5     # Display 5 words per topic\n",
    "no_top_documents = 3 # Display the top 3 documents\n",
    "\n",
    "###Running the TF-IDF Count Vectorizer in prep for Latent Dirichlet Allocation (LDA) for topic modeling\n",
    "tf_vectorizer = CountVectorizer(max_df=0.95, min_df=2, max_features=no_features, stop_words='english')\n",
    "\n",
    "###Running the TF-IDF Vectorizer in prep for non-Negative Matrix Factorization (NMF) for topic modeling\n",
    "tfidf_vectorizer = TfidfVectorizer(max_df=0.95, min_df=2, max_features=no_features, stop_words='english')"
   ]
  },
  {
   "cell_type": "code",
   "execution_count": null,
   "metadata": {},
   "outputs": [],
   "source": [
    "no_top_words = 5     # Display 5 words per topic\n",
    "no_top_documents = 3 # Display the top 3 documents\n",
    "\n",
    "def display_topics(H, W, feature_names, documents, no_top_words, no_top_documents):\n",
    "    topic_title_list = []\n",
    "    topic_text_list = []\n",
    "    for topic_idx, topic in enumerate(H):\n",
    "#          print(\"Topic %d:\" % (topic_idx))\n",
    "        topic_title_list.append(\" \".join([feature_names[i]\n",
    "                        for i in topic.argsort()[:-no_top_words - 1:-1]]))\n",
    "        top_doc_indices = np.argsort( W[:,topic_idx] )[::-1][0:no_top_documents]\n",
    "        for doc_index in top_doc_indices:\n",
    "            topic_text_list.append(documents[doc_index])\n",
    "            \n",
    "    return topic_title_list, topic_text_list"
   ]
  },
  {
   "cell_type": "code",
   "execution_count": null,
   "metadata": {},
   "outputs": [],
   "source": [
    "tf_iud = tf_vectorizer.fit_transform(IUD_1[\"selftext\"])\n",
    "tf_iud_feature_names = tf_vectorizer.get_feature_names()\n",
    "lda_iud = LatentDirichletAllocation(n_components=no_topics, max_iter=5, learning_method='online', learning_offset=50.,random_state=0).fit(tf_iud)\n",
    "lda_iud_W = lda_iud.transform(tf_iud)\n",
    "lda_iud_H = lda_iud.components_\n",
    "IUD_title_list, IUD_text_list = display_topics(lda_iud_H, lda_iud_W, tf_iud_feature_names, IUD_1[\"selftext\"], no_top_words, no_top_documents)"
   ]
  },
  {
   "cell_type": "code",
   "execution_count": null,
   "metadata": {},
   "outputs": [],
   "source": []
  },
  {
   "cell_type": "code",
   "execution_count": null,
   "metadata": {},
   "outputs": [],
   "source": []
  },
  {
   "cell_type": "code",
   "execution_count": null,
   "metadata": {},
   "outputs": [],
   "source": [
    "IUD_title_list"
   ]
  },
  {
   "cell_type": "code",
   "execution_count": null,
   "metadata": {},
   "outputs": [],
   "source": [
    "tfidf_iud = tfidf_vectorizer.fit_transform(IUD_1[\"selftext\"])\n",
    "tfidf_iud_feature_names = tfidf_vectorizer.get_feature_names()\n",
    "nmf_iud = NMF(n_components=no_topics, random_state=1, alpha=.1, l1_ratio=.5, init='nndsvd').fit(tfidf_iud)\n",
    "nmf_iud_W = nmf_iud.transform(tfidf_iud)\n",
    "nmf_iud_H = nmf_iud.components_\n",
    "IUD_NMF_titles, IUD_NMF_text = display_topics(nmf_iud_H, nmf_iud_W, tfidf_iud_feature_names, IUD_1[\"selftext\"], no_top_words, no_top_documents)"
   ]
  },
  {
   "cell_type": "code",
   "execution_count": null,
   "metadata": {},
   "outputs": [],
   "source": [
    "IUD_NMF_titles"
   ]
  },
  {
   "cell_type": "code",
   "execution_count": null,
   "metadata": {},
   "outputs": [],
   "source": [
    "nmf_iud_W[0]\n",
    "lda_iud_sum = np.sum(lda_iud_W, axis = 0)\n",
    "np.argmax(lda_iud_sum)"
   ]
  },
  {
   "cell_type": "code",
   "execution_count": null,
   "metadata": {},
   "outputs": [],
   "source": [
    "lda_iud_W[0]"
   ]
  },
  {
   "cell_type": "code",
   "execution_count": null,
   "metadata": {},
   "outputs": [],
   "source": [
    "lda_iud_sum = np.sum(lda_iud_W, axis = 0)"
   ]
  },
  {
   "cell_type": "code",
   "execution_count": null,
   "metadata": {},
   "outputs": [],
   "source": [
    "np.argmax(lda_iud_sum)"
   ]
  },
  {
   "cell_type": "code",
   "execution_count": null,
   "metadata": {},
   "outputs": [],
   "source": [
    "IUD_top_topics = IUD_title_list"
   ]
  },
  {
   "cell_type": "code",
   "execution_count": null,
   "metadata": {},
   "outputs": [],
   "source": [
    "IUD_top_topics"
   ]
  },
  {
   "cell_type": "code",
   "execution_count": null,
   "metadata": {},
   "outputs": [],
   "source": [
    "b = [0,1,2]\n",
    "IUD_top_docs = [IUD_text_list[i] for i in b]"
   ]
  },
  {
   "cell_type": "code",
   "execution_count": null,
   "metadata": {},
   "outputs": [],
   "source": [
    "IUD_top_docs"
   ]
  },
  {
   "cell_type": "code",
   "execution_count": null,
   "metadata": {},
   "outputs": [],
   "source": [
    "IUD_titles = pd.DataFrame(IUD_top_topics).reset_index()\n",
    "IUD_text = pd.DataFrame(IUD_top_docs).reset_index()\n",
    "\n",
    "IUD_text.columns = ['index', 'IUD']\n",
    "IUD_titles.columns = ['index', 'IUD']"
   ]
  },
  {
   "cell_type": "code",
   "execution_count": null,
   "metadata": {},
   "outputs": [],
   "source": [
    "tf_pills = tf_vectorizer.fit_transform(pills_1[\"selftext\"])\n",
    "tf_pills_feature_names = tf_vectorizer.get_feature_names()\n",
    "lda_pills = LatentDirichletAllocation(n_components=no_topics, max_iter=5, learning_method='online', learning_offset=50.,random_state=0).fit(tf_pills)\n",
    "lda_pills_W = lda_pills.transform(tf_pills)\n",
    "lda_pills_H = lda_pills.components_\n",
    "pills_title_list, pills_text_list = display_topics(lda_pills_H, lda_pills_W, tf_pills_feature_names, pills_1[\"selftext\"], no_top_words, no_top_documents)"
   ]
  },
  {
   "cell_type": "code",
   "execution_count": null,
   "metadata": {},
   "outputs": [],
   "source": [
    "lda_pills_sum = np.sum(lda_pills_W, axis = 0)"
   ]
  },
  {
   "cell_type": "code",
   "execution_count": null,
   "metadata": {},
   "outputs": [],
   "source": [
    "lda_pills_sum"
   ]
  },
  {
   "cell_type": "code",
   "execution_count": null,
   "metadata": {},
   "outputs": [],
   "source": [
    "np.argmax(lda_pills_sum)"
   ]
  },
  {
   "cell_type": "code",
   "execution_count": null,
   "metadata": {},
   "outputs": [],
   "source": [
    "pills_top_topics = pills_title_list"
   ]
  },
  {
   "cell_type": "code",
   "execution_count": null,
   "metadata": {},
   "outputs": [],
   "source": [
    "b = [27,28,29]\n",
    "pills_top_docs = [pills_text_list[i] for i in b]"
   ]
  },
  {
   "cell_type": "code",
   "execution_count": null,
   "metadata": {},
   "outputs": [],
   "source": [
    "pills_titles = pd.DataFrame(pills_top_topics).reset_index()\n",
    "pills_text = pd.DataFrame(pills_top_docs).reset_index()\n",
    "\n",
    "pills_text.columns = ['index', 'Pills']\n",
    "pills_titles.columns = ['index', 'Pills']"
   ]
  },
  {
   "cell_type": "code",
   "execution_count": null,
   "metadata": {},
   "outputs": [],
   "source": [
    "tf_ring = tf_vectorizer.fit_transform(ring_1[\"selftext\"])\n",
    "tf_ring_feature_names = tf_vectorizer.get_feature_names()\n",
    "lda_ring = LatentDirichletAllocation(n_components=no_topics, max_iter=5, learning_method='online', learning_offset=50.,random_state=0).fit(tf_ring)\n",
    "lda_ring_W = lda_ring.transform(tf_ring)\n",
    "lda_ring_H = lda_ring.components_\n",
    "ring_title_list, ring_text_list = display_topics(lda_ring_H, lda_ring_W, tf_ring_feature_names, ring_1[\"selftext\"], no_top_words, no_top_documents)"
   ]
  },
  {
   "cell_type": "code",
   "execution_count": null,
   "metadata": {},
   "outputs": [],
   "source": [
    "lda_ring_sum = np.sum(lda_ring_W, axis = 0)"
   ]
  },
  {
   "cell_type": "code",
   "execution_count": null,
   "metadata": {},
   "outputs": [],
   "source": [
    "lda_ring_sum"
   ]
  },
  {
   "cell_type": "code",
   "execution_count": null,
   "metadata": {},
   "outputs": [],
   "source": [
    "np.argmax(lda_ring_sum)"
   ]
  },
  {
   "cell_type": "code",
   "execution_count": null,
   "metadata": {},
   "outputs": [],
   "source": [
    "ring_top_topics = ring_title_list"
   ]
  },
  {
   "cell_type": "code",
   "execution_count": null,
   "metadata": {},
   "outputs": [],
   "source": [
    "b = [6,7,8]\n",
    "ring_top_docs = [ring_text_list[i] for i in b]"
   ]
  },
  {
   "cell_type": "code",
   "execution_count": null,
   "metadata": {},
   "outputs": [],
   "source": [
    "ring_titles = pd.DataFrame(ring_top_topics).reset_index()\n",
    "ring_text = pd.DataFrame(ring_top_docs).reset_index()\n",
    "\n",
    "ring_text.columns = ['index', 'Vaginal ring']\n",
    "ring_titles.columns = ['index', 'Vaginal ring']"
   ]
  },
  {
   "cell_type": "code",
   "execution_count": null,
   "metadata": {},
   "outputs": [],
   "source": [
    "tf_depo = tf_vectorizer.fit_transform(depo_1[\"selftext\"])\n",
    "tf_depo_feature_names = tf_vectorizer.get_feature_names()\n",
    "lda_depo = LatentDirichletAllocation(n_components=no_topics, max_iter=5, learning_method='online', learning_offset=50.,random_state=0).fit(tf_depo)\n",
    "lda_depo_W = lda_depo.transform(tf_depo)\n",
    "lda_depo_H = lda_depo.components_\n",
    "depo_title_list, depo_text_list = display_topics(lda_depo_H, lda_depo_W, tf_depo_feature_names, depo_1[\"selftext\"], no_top_words, no_top_documents)"
   ]
  },
  {
   "cell_type": "code",
   "execution_count": null,
   "metadata": {},
   "outputs": [],
   "source": [
    "lda_depo_sum = np.sum(lda_depo_W, axis = 0)"
   ]
  },
  {
   "cell_type": "code",
   "execution_count": null,
   "metadata": {},
   "outputs": [],
   "source": [
    "lda_depo_sum"
   ]
  },
  {
   "cell_type": "code",
   "execution_count": null,
   "metadata": {},
   "outputs": [],
   "source": [
    "np.argmax(lda_depo_sum)"
   ]
  },
  {
   "cell_type": "code",
   "execution_count": null,
   "metadata": {},
   "outputs": [],
   "source": [
    "depo_top_topics = depo_title_list"
   ]
  },
  {
   "cell_type": "code",
   "execution_count": null,
   "metadata": {},
   "outputs": [],
   "source": [
    "b = [0,1,2]\n",
    "depo_top_docs = [depo_text_list[i] for i in b]"
   ]
  },
  {
   "cell_type": "code",
   "execution_count": null,
   "metadata": {},
   "outputs": [],
   "source": [
    "depo_titles = pd.DataFrame(depo_top_topics).reset_index()\n",
    "depo_text = pd.DataFrame(depo_top_docs).reset_index()\n",
    "\n",
    "depo_text.columns = ['index', 'Depo-Provera']\n",
    "depo_titles.columns = ['index', 'Depo-Provera']"
   ]
  },
  {
   "cell_type": "code",
   "execution_count": null,
   "metadata": {},
   "outputs": [],
   "source": [
    "tf_implant = tf_vectorizer.fit_transform(implant_1[\"selftext\"])\n",
    "tf_implant_feature_names = tf_vectorizer.get_feature_names()\n",
    "lda_implant = LatentDirichletAllocation(n_components=no_topics, max_iter=5, learning_method='online', learning_offset=50.,random_state=0).fit(tf_implant)\n",
    "lda_implant_W = lda_implant.transform(tf_implant)\n",
    "lda_implant_H = lda_implant.components_\n",
    "implant_title_list, implant_text_list = display_topics(lda_implant_H, lda_implant_W, tf_implant_feature_names, implant_1[\"selftext\"], no_top_words, no_top_documents)\n"
   ]
  },
  {
   "cell_type": "code",
   "execution_count": null,
   "metadata": {},
   "outputs": [],
   "source": [
    "lda_implant_sum = np.sum(lda_implant_W, axis = 0)"
   ]
  },
  {
   "cell_type": "code",
   "execution_count": null,
   "metadata": {},
   "outputs": [],
   "source": [
    "lda_implant_sum"
   ]
  },
  {
   "cell_type": "code",
   "execution_count": null,
   "metadata": {},
   "outputs": [],
   "source": [
    "np.argmax(lda_implant_sum)"
   ]
  },
  {
   "cell_type": "code",
   "execution_count": null,
   "metadata": {},
   "outputs": [],
   "source": [
    "implant_top_topics = implant_title_list"
   ]
  },
  {
   "cell_type": "code",
   "execution_count": null,
   "metadata": {},
   "outputs": [],
   "source": [
    "b = [15,16,17]\n",
    "implant_top_docs = [implant_text_list[i] for i in b]"
   ]
  },
  {
   "cell_type": "code",
   "execution_count": null,
   "metadata": {},
   "outputs": [],
   "source": [
    "implant_titles = pd.DataFrame(implant_top_topics).reset_index()\n",
    "implant_text = pd.DataFrame(implant_top_docs).reset_index()\n",
    "\n",
    "implant_text.columns = ['index', 'Implant']\n",
    "implant_titles.columns = ['index', 'Implant']"
   ]
  },
  {
   "cell_type": "code",
   "execution_count": null,
   "metadata": {},
   "outputs": [],
   "source": [
    "tf_patch = tf_vectorizer.fit_transform(patch_1[\"selftext\"])\n",
    "tf_patch_feature_names = tf_vectorizer.get_feature_names()\n",
    "lda_patch = LatentDirichletAllocation(n_components=no_topics, max_iter=5, learning_method='online', learning_offset=50.,random_state=0).fit(tf_patch)\n",
    "lda_patch_W = lda_patch.transform(tf_patch)\n",
    "lda_patch_H = lda_patch.components_\n",
    "patch_title_list, patch_text_list = display_topics(lda_patch_H, lda_patch_W, tf_patch_feature_names, patch_1[\"selftext\"], no_top_words, no_top_documents)"
   ]
  },
  {
   "cell_type": "code",
   "execution_count": null,
   "metadata": {},
   "outputs": [],
   "source": [
    "lda_patch_sum = np.sum(lda_patch_W, axis = 0)"
   ]
  },
  {
   "cell_type": "code",
   "execution_count": null,
   "metadata": {},
   "outputs": [],
   "source": [
    "lda_patch_sum"
   ]
  },
  {
   "cell_type": "code",
   "execution_count": null,
   "metadata": {},
   "outputs": [],
   "source": [
    "np.argmax(lda_patch_sum)"
   ]
  },
  {
   "cell_type": "code",
   "execution_count": null,
   "metadata": {},
   "outputs": [],
   "source": [
    "patch_top_topics = patch_title_list"
   ]
  },
  {
   "cell_type": "code",
   "execution_count": null,
   "metadata": {},
   "outputs": [],
   "source": [
    "b = [0,1,2]\n",
    "patch_top_docs = [patch_text_list[i] for i in b]"
   ]
  },
  {
   "cell_type": "code",
   "execution_count": null,
   "metadata": {},
   "outputs": [],
   "source": [
    "patch_titles = pd.DataFrame(patch_top_topics).reset_index()\n",
    "patch_text = pd.DataFrame(patch_top_docs).reset_index()\n",
    "\n",
    "patch_text.columns = ['index', 'Patch']\n",
    "patch_titles.columns = ['index', 'Patch']"
   ]
  },
  {
   "cell_type": "code",
   "execution_count": null,
   "metadata": {},
   "outputs": [],
   "source": [
    "tf_condom = tf_vectorizer.fit_transform(condom_1[\"selftext\"])\n",
    "tf_condom_feature_names = tf_vectorizer.get_feature_names()\n",
    "lda_condom = LatentDirichletAllocation(n_components=no_topics, max_iter=5, learning_method='online', learning_offset=50.,random_state=0).fit(tf_condom)\n",
    "lda_condom_W = lda_condom.transform(tf_condom)\n",
    "lda_condom_H = lda_condom.components_\n",
    "condom_title_list, condom_text_list = display_topics(lda_condom_H, lda_condom_W, tf_condom_feature_names, condom_1[\"selftext\"], no_top_words, no_top_documents)\n"
   ]
  },
  {
   "cell_type": "code",
   "execution_count": null,
   "metadata": {},
   "outputs": [],
   "source": [
    "lda_condom_sum = np.sum(lda_condom_W, axis = 0)"
   ]
  },
  {
   "cell_type": "code",
   "execution_count": null,
   "metadata": {},
   "outputs": [],
   "source": [
    "lda_condom_sum"
   ]
  },
  {
   "cell_type": "code",
   "execution_count": null,
   "metadata": {},
   "outputs": [],
   "source": [
    "np.argmax(lda_condom_sum)"
   ]
  },
  {
   "cell_type": "code",
   "execution_count": null,
   "metadata": {},
   "outputs": [],
   "source": [
    "condom_top_topics = condom_title_list"
   ]
  },
  {
   "cell_type": "code",
   "execution_count": null,
   "metadata": {},
   "outputs": [],
   "source": [
    "b = [24,25,26]\n",
    "condom_top_docs = [condom_text_list[i] for i in b]"
   ]
  },
  {
   "cell_type": "code",
   "execution_count": null,
   "metadata": {},
   "outputs": [],
   "source": [
    "condom_titles = pd.DataFrame(condom_top_topics).reset_index()\n",
    "condom_text = pd.DataFrame(condom_top_docs).reset_index()\n",
    "\n",
    "condom_text.columns = ['index', 'Condom']\n",
    "condom_titles.columns = ['index', 'Condom']"
   ]
  },
  {
   "cell_type": "code",
   "execution_count": null,
   "metadata": {},
   "outputs": [],
   "source": [
    "tf_tubes = tf_vectorizer.fit_transform(tubes_tied_1[\"selftext\"])\n",
    "tf_tubes_feature_names = tf_vectorizer.get_feature_names()\n",
    "lda_tubes = LatentDirichletAllocation(n_components=no_topics, max_iter=5, learning_method='online', learning_offset=50.,random_state=0).fit(tf_tubes)\n",
    "lda_tubes_W = lda_tubes.transform(tf_tubes)\n",
    "lda_tubes_H = lda_tubes.components_\n",
    "tubes_title_list, tubes_text_list = display_topics(lda_tubes_H, lda_tubes_W, tf_tubes_feature_names, tubes_tied_1[\"selftext\"], no_top_words, no_top_documents)"
   ]
  },
  {
   "cell_type": "code",
   "execution_count": null,
   "metadata": {},
   "outputs": [],
   "source": [
    "lda_tubes_sum = np.sum(lda_tubes_W, axis = 0)"
   ]
  },
  {
   "cell_type": "code",
   "execution_count": null,
   "metadata": {},
   "outputs": [],
   "source": [
    "lda_tubes_sum"
   ]
  },
  {
   "cell_type": "code",
   "execution_count": null,
   "metadata": {},
   "outputs": [],
   "source": [
    "np.argmax(lda_tubes_sum)"
   ]
  },
  {
   "cell_type": "code",
   "execution_count": null,
   "metadata": {},
   "outputs": [],
   "source": [
    "tubes_top_topics = tubes_title_list"
   ]
  },
  {
   "cell_type": "code",
   "execution_count": null,
   "metadata": {},
   "outputs": [],
   "source": [
    "b = [6,7,8]\n",
    "tubes_top_docs = [tubes_text_list[i] for i in b]"
   ]
  },
  {
   "cell_type": "code",
   "execution_count": null,
   "metadata": {},
   "outputs": [],
   "source": [
    "tubes_titles = pd.DataFrame(tubes_top_topics).reset_index()\n",
    "tubes_text = pd.DataFrame(tubes_top_docs).reset_index()\n",
    "\n",
    "tubes_text.columns = ['index', 'Tubal ligation']\n",
    "tubes_titles.columns = ['index', 'Tubal ligation']"
   ]
  },
  {
   "cell_type": "code",
   "execution_count": null,
   "metadata": {},
   "outputs": [],
   "source": [
    "##Join all the dataframes\n",
    "text_data_frames = [tubes_text, IUD_text, pills_text, patch_text,\n",
    "              implant_text, ring_text, condom_text, depo_text]\n",
    "\n",
    "text_merged = functools.reduce(lambda  left,right: pd.merge(left,right,on=['index'],\n",
    "                                            how='outer'), text_data_frames)"
   ]
  },
  {
   "cell_type": "code",
   "execution_count": null,
   "metadata": {},
   "outputs": [],
   "source": [
    "#Join all the dataframes\n",
    "titles_data_frames = [tubes_titles, IUD_titles, pills_titles, patch_titles,\n",
    "              implant_titles, ring_titles, condom_titles, depo_titles]\n",
    "\n",
    "titles_merged = functools.reduce(lambda  left,right: pd.merge(left,right,on=['index'],\n",
    "                                            how='outer'), titles_data_frames)"
   ]
  },
  {
   "cell_type": "code",
   "execution_count": null,
   "metadata": {},
   "outputs": [],
   "source": [
    "text_merged.to_csv(\"All Contraceptive Text.csv\")"
   ]
  },
  {
   "cell_type": "code",
   "execution_count": null,
   "metadata": {},
   "outputs": [],
   "source": [
    "titles_merged.to_csv(\"All Contraceptive Topics.csv\")"
   ]
  }
 ],
 "metadata": {
  "kernelspec": {
   "display_name": "Python 3",
   "language": "python",
   "name": "python3"
  },
  "language_info": {
   "codemirror_mode": {
    "name": "ipython",
    "version": 3
   },
   "file_extension": ".py",
   "mimetype": "text/x-python",
   "name": "python",
   "nbconvert_exporter": "python",
   "pygments_lexer": "ipython3",
   "version": "3.6.4"
  },
  "toc": {
   "base_numbering": 1,
   "nav_menu": {},
   "number_sections": true,
   "sideBar": true,
   "skip_h1_title": false,
   "title_cell": "Table of Contents",
   "title_sidebar": "Contents",
   "toc_cell": true,
   "toc_position": {},
   "toc_section_display": true,
   "toc_window_display": false
  }
 },
 "nbformat": 4,
 "nbformat_minor": 2
}

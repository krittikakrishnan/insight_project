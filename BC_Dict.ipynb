{
 "cells": [
  {
   "cell_type": "code",
   "execution_count": 2,
   "metadata": {},
   "outputs": [
    {
     "ename": "SyntaxError",
     "evalue": "invalid syntax (<ipython-input-2-272df0767796>, line 4)",
     "output_type": "error",
     "traceback": [
      "\u001b[0;36m  File \u001b[0;32m\"<ipython-input-2-272df0767796>\"\u001b[0;36m, line \u001b[0;32m4\u001b[0m\n\u001b[0;31m    def BC_Dict(Users/krittikakrishnan/Desktop/BC Project):\u001b[0m\n\u001b[0m                     ^\u001b[0m\n\u001b[0;31mSyntaxError\u001b[0m\u001b[0;31m:\u001b[0m invalid syntax\n"
     ]
    }
   ],
   "source": [
    "import re\n",
    "\n",
    "\n",
    "def BC_Dict(file):\n",
    "\t\"\"\"reads data from /empath/data/drugs/antidepressants.txt, builds dict of \n",
    "\t{'alt name':'generic name'}.\n",
    "\tARGS:\n",
    "\t\tfilepath: string.\n",
    "\t\t\tpath to text file of drug names.\n",
    "\tRETURNS:\n",
    "\t\tdrug_dict: dict.\n",
    "\t\t\tdict of {'alt name':'generic name'} for drugs in \n",
    "\t\t\tantidepressants.txt.\n",
    "\t\"\"\"\n",
    "\tBC_Dict = {}\n",
    "\twith open(/Users/krittikakrishnan/Desktop/BC Project,'BC Types.csv') as readfile:\n",
    "\t\tfor line in readfile:\n",
    "\t\t\t# find drugs of the form brand (generic)\n",
    "\t\t\tres = re.match('(\\w+) (\\(\\w+)',line)\n",
    "\t\t\tif res:\n",
    "\t\t\t\tbrand = res.group(1)\n",
    "\t\t\t\tkind = res.group(2)\n",
    "\t\t\t\tif brand.upper() not in BC_Dict.keys():\n",
    "\t\t\t\t\tBC_Dict[brand.upper()] = kind.upper()\n",
    "\t\t\t\t# generic maps to itself\n",
    "\t\t\t\tif kind.upper() not in BC_Dict.keys():\n",
    "\t\t\t\t\tBC_Dict[kind.upper()] = kind.upper()\n",
    "\t\t\telse:\n",
    "\t\t\t\t# account for drugs listed with only generic name\n",
    "\t\t\t\tres = re.match('(\\w+)',line)\n",
    "\t\t\t\tkind = res.group(0)\n",
    "\t\t\t\tif kind.upper() not in BC_Dict.keys():\n",
    "\t\t\t\t\tBC_dict[kind.upper()] = kind.upper()\n",
    "\treturn BC_Dict\n",
    "\n",
    "\n",
    "#def generic_dict(drug_dict):\n",
    "#\t\"\"\"reads dict from build_drug_dict of the form {'alt name':'generic name'}, \n",
    "#\tbuilds inverse dict of {'generic name':['alt names']}.\n",
    "#\tARGS:\n",
    "#\t\tdrug_dict: dict.\n",
    "#\t\t\tdict of {'alt name':'generic name'} for drugs in \n",
    "#\t\t\tantidepressants.txt.\n",
    "#\tRETURNS:\n",
    "#\t\tgen_dict: dict.\n",
    "#\t\t\tdict of {'generic name':['alt names']} from drug_dict.\n",
    " #\t\"\"\"\n",
    " #\tgen_dict = {}\n",
    " #\tfor drug in drug_dict.keys():\n",
    " #\t\tgen = drug_dict[drug]\n",
    " #\t\tif gen != drug:\n",
    "#\t \t\tif gen in gen_dict.keys():\n",
    "#\t \t\t\tgen_dict[gen].append(drug)\n",
    "#\t \t\telse:\n",
    "#\t \t\t\tgen_dict[gen] = [drug]\n",
    " #\treturn gen_dict\n",
    "\n"
   ]
  },
  {
   "cell_type": "code",
   "execution_count": null,
   "metadata": {},
   "outputs": [],
   "source": []
  }
 ],
 "metadata": {
  "kernelspec": {
   "display_name": "Python 3",
   "language": "python",
   "name": "python3"
  },
  "language_info": {
   "codemirror_mode": {
    "name": "ipython",
    "version": 3
   },
   "file_extension": ".py",
   "mimetype": "text/x-python",
   "name": "python",
   "nbconvert_exporter": "python",
   "pygments_lexer": "ipython3",
   "version": "3.6.4"
  }
 },
 "nbformat": 4,
 "nbformat_minor": 2
}

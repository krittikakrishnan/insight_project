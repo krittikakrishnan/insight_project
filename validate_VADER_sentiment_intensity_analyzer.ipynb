{
 "cells": [
  {
   "cell_type": "code",
   "execution_count": 19,
   "metadata": {},
   "outputs": [],
   "source": [
    "import pandas as pd\n",
    "import string, math, time, collections, pprint\n",
    "import numpy as np\n",
    "import seaborn as sn\n",
    "\n",
    "from nltk.sentiment.vader import SentimentIntensityAnalyzer as SIA\n",
    "from sklearn.metrics import confusion_matrix as cm\n",
    "from sklearn.metrics import accuracy_score\n",
    "from sklearn.metrics import recall_score\n",
    "from sklearn.metrics import precision_recall_fscore_support\n",
    "from matplotlib.pyplot import plot as plt"
   ]
  },
  {
   "cell_type": "code",
   "execution_count": 2,
   "metadata": {},
   "outputs": [],
   "source": [
    "##set directory\n",
    "\n",
    "import os\n",
    "path = \"/Users/krittikakrishnan/Desktop/Insight Project\"\n",
    "os.chdir(path) #To change path to current directory"
   ]
  },
  {
   "cell_type": "code",
   "execution_count": 3,
   "metadata": {
    "scrolled": true
   },
   "outputs": [
    {
     "data": {
      "text/html": [
       "<div>\n",
       "<style scoped>\n",
       "    .dataframe tbody tr th:only-of-type {\n",
       "        vertical-align: middle;\n",
       "    }\n",
       "\n",
       "    .dataframe tbody tr th {\n",
       "        vertical-align: top;\n",
       "    }\n",
       "\n",
       "    .dataframe thead th {\n",
       "        text-align: right;\n",
       "    }\n",
       "</style>\n",
       "<table border=\"1\" class=\"dataframe\">\n",
       "  <thead>\n",
       "    <tr style=\"text-align: right;\">\n",
       "      <th></th>\n",
       "      <th>ID</th>\n",
       "      <th>RATING</th>\n",
       "      <th>SENTENCE</th>\n",
       "    </tr>\n",
       "  </thead>\n",
       "  <tbody>\n",
       "    <tr>\n",
       "      <th>0</th>\n",
       "      <td>6lfb78</td>\n",
       "      <td>-1</td>\n",
       "      <td>i can't stop overthinking things and i have fe...</td>\n",
       "    </tr>\n",
       "    <tr>\n",
       "      <th>1</th>\n",
       "      <td>64lplf</td>\n",
       "      <td>1</td>\n",
       "      <td>i'm taking primrose oil, drinking spearmint te...</td>\n",
       "    </tr>\n",
       "    <tr>\n",
       "      <th>2</th>\n",
       "      <td>8dcp7v</td>\n",
       "      <td>0</td>\n",
       "      <td>my boyfriend and i had had sex on day 9 of the...</td>\n",
       "    </tr>\n",
       "    <tr>\n",
       "      <th>3</th>\n",
       "      <td>851v5y</td>\n",
       "      <td>0</td>\n",
       "      <td>basically, i started taking aviane combination...</td>\n",
       "    </tr>\n",
       "    <tr>\n",
       "      <th>4</th>\n",
       "      <td>7fu6v3</td>\n",
       "      <td>0</td>\n",
       "      <td>today was the last day of my active pills.</td>\n",
       "    </tr>\n",
       "    <tr>\n",
       "      <th>5</th>\n",
       "      <td>5yf68k</td>\n",
       "      <td>-1</td>\n",
       "      <td>if i don't get my periods regularly on the pil...</td>\n",
       "    </tr>\n",
       "    <tr>\n",
       "      <th>6</th>\n",
       "      <td>8axz89</td>\n",
       "      <td>1</td>\n",
       "      <td>so far i've really been preferring it over the...</td>\n",
       "    </tr>\n",
       "    <tr>\n",
       "      <th>7</th>\n",
       "      <td>6vsrj6</td>\n",
       "      <td>0</td>\n",
       "      <td>i started my placebo pills on monday and i wou...</td>\n",
       "    </tr>\n",
       "    <tr>\n",
       "      <th>8</th>\n",
       "      <td>6zzyc5</td>\n",
       "      <td>1</td>\n",
       "      <td>i like my current combo pill, i have been taki...</td>\n",
       "    </tr>\n",
       "    <tr>\n",
       "      <th>9</th>\n",
       "      <td>77fyfg</td>\n",
       "      <td>-1</td>\n",
       "      <td>i just went off the pill in july after having ...</td>\n",
       "    </tr>\n",
       "  </tbody>\n",
       "</table>\n",
       "</div>"
      ],
      "text/plain": [
       "       ID  RATING                                           SENTENCE\n",
       "0  6lfb78      -1  i can't stop overthinking things and i have fe...\n",
       "1  64lplf       1  i'm taking primrose oil, drinking spearmint te...\n",
       "2  8dcp7v       0  my boyfriend and i had had sex on day 9 of the...\n",
       "3  851v5y       0  basically, i started taking aviane combination...\n",
       "4  7fu6v3       0         today was the last day of my active pills.\n",
       "5  5yf68k      -1  if i don't get my periods regularly on the pil...\n",
       "6  8axz89       1  so far i've really been preferring it over the...\n",
       "7  6vsrj6       0  i started my placebo pills on monday and i wou...\n",
       "8  6zzyc5       1  i like my current combo pill, i have been taki...\n",
       "9  77fyfg      -1  i just went off the pill in july after having ..."
      ]
     },
     "execution_count": 3,
     "metadata": {},
     "output_type": "execute_result"
    }
   ],
   "source": [
    "rated = pd.read_csv(\"Rated Sentences.csv\")\n",
    "rated.head(10)"
   ]
  },
  {
   "cell_type": "code",
   "execution_count": 4,
   "metadata": {},
   "outputs": [],
   "source": [
    "#Standardizing the original title and selftext\n",
    "def standardize_text(new, text_field):\n",
    "    new[text_field] = new[text_field].str.replace(r\"http\\S+\", \"\")\n",
    "    new[text_field] = new[text_field].str.replace(r\"http\", \"\")\n",
    "    new[text_field] = new[text_field].str.replace(r\"@\\S+\", \"\")\n",
    "    new[text_field] = new[text_field].str.replace(r\"\\n\", \"\")\n",
    "    new[text_field] = new[text_field].str.replace(r\"[^A-Za-z0-9(),.!?@\\'\\`\\\"\\_\\n]\", \" \")\n",
    "#     new[text_field] = new[text_field].str.replace(r\"@\", \"at\")\n",
    "    new[text_field] = new[text_field].str.lower()\n",
    "    return new\n",
    "\n",
    "# new = standardize_text(uncleaned, \"title\")\n",
    "rated = standardize_text(rated, \"SENTENCE\")"
   ]
  },
  {
   "cell_type": "code",
   "execution_count": 5,
   "metadata": {},
   "outputs": [],
   "source": [
    "#SENTIMENT ANALYSIS ON SENTENCES --\n",
    "\n",
    "sia = SIA()\n",
    "results_body = []\n",
    "for entry in rated[\"SENTENCE\"]:\n",
    "    body_score = sia.polarity_scores(entry)\n",
    "    body_score['SENTENCE'] = entry\n",
    "    results_body.append(body_score)\n",
    "results = pd.DataFrame(results_body)"
   ]
  },
  {
   "cell_type": "code",
   "execution_count": 6,
   "metadata": {},
   "outputs": [],
   "source": [
    "both = pd.merge(results, rated, on = \"SENTENCE\")"
   ]
  },
  {
   "cell_type": "code",
   "execution_count": 143,
   "metadata": {},
   "outputs": [],
   "source": [
    "both['label_new'] = 0\n",
    "both.loc[both['compound'] > 0, 'label_new'] = 0\n",
    "both.loc[both['compound'] < 0, 'label_new'] = -1\n",
    "# both.loc[-0.2 < both['compound'] > 0.2, 'label'] = 0"
   ]
  },
  {
   "cell_type": "code",
   "execution_count": 144,
   "metadata": {},
   "outputs": [],
   "source": [
    "both['rating_new'] = 0\n",
    "both.loc[both['RATING'] > 0, 'rating_new'] = 0\n",
    "both.loc[both['RATING'] < 0, 'rating_new'] = -1"
   ]
  },
  {
   "cell_type": "code",
   "execution_count": 145,
   "metadata": {},
   "outputs": [
    {
     "data": {
      "text/html": [
       "<div>\n",
       "<style scoped>\n",
       "    .dataframe tbody tr th:only-of-type {\n",
       "        vertical-align: middle;\n",
       "    }\n",
       "\n",
       "    .dataframe tbody tr th {\n",
       "        vertical-align: top;\n",
       "    }\n",
       "\n",
       "    .dataframe thead th {\n",
       "        text-align: right;\n",
       "    }\n",
       "</style>\n",
       "<table border=\"1\" class=\"dataframe\">\n",
       "  <thead>\n",
       "    <tr style=\"text-align: right;\">\n",
       "      <th></th>\n",
       "      <th>SENTENCE</th>\n",
       "      <th>compound</th>\n",
       "      <th>neg</th>\n",
       "      <th>neu</th>\n",
       "      <th>pos</th>\n",
       "      <th>ID</th>\n",
       "      <th>RATING</th>\n",
       "      <th>label</th>\n",
       "      <th>label_new</th>\n",
       "      <th>rating_new</th>\n",
       "      <th>label.5</th>\n",
       "      <th>label_0.1</th>\n",
       "    </tr>\n",
       "  </thead>\n",
       "  <tbody>\n",
       "    <tr>\n",
       "      <th>0</th>\n",
       "      <td>i can't stop overthinking things and i have fe...</td>\n",
       "      <td>-0.2512</td>\n",
       "      <td>0.097</td>\n",
       "      <td>0.839</td>\n",
       "      <td>0.063</td>\n",
       "      <td>6lfb78</td>\n",
       "      <td>-1</td>\n",
       "      <td>-1</td>\n",
       "      <td>-1</td>\n",
       "      <td>-1</td>\n",
       "      <td>-1</td>\n",
       "      <td>-1.0</td>\n",
       "    </tr>\n",
       "    <tr>\n",
       "      <th>1</th>\n",
       "      <td>i'm taking primrose oil, drinking spearmint te...</td>\n",
       "      <td>0.7579</td>\n",
       "      <td>0.053</td>\n",
       "      <td>0.742</td>\n",
       "      <td>0.204</td>\n",
       "      <td>64lplf</td>\n",
       "      <td>1</td>\n",
       "      <td>1</td>\n",
       "      <td>0</td>\n",
       "      <td>0</td>\n",
       "      <td>1</td>\n",
       "      <td>0.0</td>\n",
       "    </tr>\n",
       "    <tr>\n",
       "      <th>2</th>\n",
       "      <td>my boyfriend and i had had sex on day 9 of the...</td>\n",
       "      <td>0.8807</td>\n",
       "      <td>0.052</td>\n",
       "      <td>0.725</td>\n",
       "      <td>0.223</td>\n",
       "      <td>8dcp7v</td>\n",
       "      <td>0</td>\n",
       "      <td>1</td>\n",
       "      <td>0</td>\n",
       "      <td>0</td>\n",
       "      <td>1</td>\n",
       "      <td>0.0</td>\n",
       "    </tr>\n",
       "    <tr>\n",
       "      <th>3</th>\n",
       "      <td>basically, i started taking aviane combination...</td>\n",
       "      <td>0.0000</td>\n",
       "      <td>0.000</td>\n",
       "      <td>1.000</td>\n",
       "      <td>0.000</td>\n",
       "      <td>851v5y</td>\n",
       "      <td>0</td>\n",
       "      <td>0</td>\n",
       "      <td>0</td>\n",
       "      <td>0</td>\n",
       "      <td>0</td>\n",
       "      <td>-1.0</td>\n",
       "    </tr>\n",
       "    <tr>\n",
       "      <th>4</th>\n",
       "      <td>today was the last day of my active pills.</td>\n",
       "      <td>0.4019</td>\n",
       "      <td>0.000</td>\n",
       "      <td>0.748</td>\n",
       "      <td>0.252</td>\n",
       "      <td>7fu6v3</td>\n",
       "      <td>0</td>\n",
       "      <td>1</td>\n",
       "      <td>0</td>\n",
       "      <td>0</td>\n",
       "      <td>1</td>\n",
       "      <td>0.0</td>\n",
       "    </tr>\n",
       "    <tr>\n",
       "      <th>5</th>\n",
       "      <td>if i don't get my periods regularly on the pil...</td>\n",
       "      <td>0.0000</td>\n",
       "      <td>0.000</td>\n",
       "      <td>1.000</td>\n",
       "      <td>0.000</td>\n",
       "      <td>5yf68k</td>\n",
       "      <td>-1</td>\n",
       "      <td>0</td>\n",
       "      <td>0</td>\n",
       "      <td>-1</td>\n",
       "      <td>0</td>\n",
       "      <td>-1.0</td>\n",
       "    </tr>\n",
       "    <tr>\n",
       "      <th>6</th>\n",
       "      <td>so far i've really been preferring it over the...</td>\n",
       "      <td>0.0000</td>\n",
       "      <td>0.000</td>\n",
       "      <td>1.000</td>\n",
       "      <td>0.000</td>\n",
       "      <td>8axz89</td>\n",
       "      <td>1</td>\n",
       "      <td>0</td>\n",
       "      <td>0</td>\n",
       "      <td>0</td>\n",
       "      <td>0</td>\n",
       "      <td>-1.0</td>\n",
       "    </tr>\n",
       "    <tr>\n",
       "      <th>7</th>\n",
       "      <td>i started my placebo pills on monday and i wou...</td>\n",
       "      <td>-0.2960</td>\n",
       "      <td>0.078</td>\n",
       "      <td>0.922</td>\n",
       "      <td>0.000</td>\n",
       "      <td>6vsrj6</td>\n",
       "      <td>0</td>\n",
       "      <td>-1</td>\n",
       "      <td>-1</td>\n",
       "      <td>0</td>\n",
       "      <td>-1</td>\n",
       "      <td>-1.0</td>\n",
       "    </tr>\n",
       "    <tr>\n",
       "      <th>8</th>\n",
       "      <td>i like my current combo pill, i have been taki...</td>\n",
       "      <td>0.3612</td>\n",
       "      <td>0.000</td>\n",
       "      <td>0.828</td>\n",
       "      <td>0.172</td>\n",
       "      <td>6zzyc5</td>\n",
       "      <td>1</td>\n",
       "      <td>1</td>\n",
       "      <td>0</td>\n",
       "      <td>0</td>\n",
       "      <td>1</td>\n",
       "      <td>0.0</td>\n",
       "    </tr>\n",
       "    <tr>\n",
       "      <th>9</th>\n",
       "      <td>i just went off the pill in july after having ...</td>\n",
       "      <td>-0.6956</td>\n",
       "      <td>0.137</td>\n",
       "      <td>0.863</td>\n",
       "      <td>0.000</td>\n",
       "      <td>77fyfg</td>\n",
       "      <td>-1</td>\n",
       "      <td>-1</td>\n",
       "      <td>-1</td>\n",
       "      <td>-1</td>\n",
       "      <td>-1</td>\n",
       "      <td>-1.0</td>\n",
       "    </tr>\n",
       "  </tbody>\n",
       "</table>\n",
       "</div>"
      ],
      "text/plain": [
       "                                            SENTENCE  compound    neg    neu  \\\n",
       "0  i can't stop overthinking things and i have fe...   -0.2512  0.097  0.839   \n",
       "1  i'm taking primrose oil, drinking spearmint te...    0.7579  0.053  0.742   \n",
       "2  my boyfriend and i had had sex on day 9 of the...    0.8807  0.052  0.725   \n",
       "3  basically, i started taking aviane combination...    0.0000  0.000  1.000   \n",
       "4         today was the last day of my active pills.    0.4019  0.000  0.748   \n",
       "5  if i don't get my periods regularly on the pil...    0.0000  0.000  1.000   \n",
       "6  so far i've really been preferring it over the...    0.0000  0.000  1.000   \n",
       "7  i started my placebo pills on monday and i wou...   -0.2960  0.078  0.922   \n",
       "8  i like my current combo pill, i have been taki...    0.3612  0.000  0.828   \n",
       "9  i just went off the pill in july after having ...   -0.6956  0.137  0.863   \n",
       "\n",
       "     pos      ID  RATING  label  label_new  rating_new  label.5  label_0.1  \n",
       "0  0.063  6lfb78      -1     -1         -1          -1       -1       -1.0  \n",
       "1  0.204  64lplf       1      1          0           0        1        0.0  \n",
       "2  0.223  8dcp7v       0      1          0           0        1        0.0  \n",
       "3  0.000  851v5y       0      0          0           0        0       -1.0  \n",
       "4  0.252  7fu6v3       0      1          0           0        1        0.0  \n",
       "5  0.000  5yf68k      -1      0          0          -1        0       -1.0  \n",
       "6  0.000  8axz89       1      0          0           0        0       -1.0  \n",
       "7  0.000  6vsrj6       0     -1         -1           0       -1       -1.0  \n",
       "8  0.172  6zzyc5       1      1          0           0        1        0.0  \n",
       "9  0.000  77fyfg      -1     -1         -1          -1       -1       -1.0  "
      ]
     },
     "execution_count": 145,
     "metadata": {},
     "output_type": "execute_result"
    }
   ],
   "source": [
    "both.head(10)"
   ]
  },
  {
   "cell_type": "code",
   "execution_count": 22,
   "metadata": {},
   "outputs": [],
   "source": [
    "subset = (both.RATING == -1) & (both.label == 1)"
   ]
  },
  {
   "cell_type": "code",
   "execution_count": 25,
   "metadata": {},
   "outputs": [
    {
     "data": {
      "text/plain": [
       "array([\"i can't really afford the financial hit of trying two different iuds within a year, unless i find out tomorrow that medicaid is covering a significant amount of the cost.\",\n",
       "       \"please tell me i am overreacting, that it isn't as bad as i have been hearing.\",\n",
       "       \"i check the strings myself and don't feel anything abnormal but i feel like i heard two different things from him.\",\n",
       "       \"some background i've posted a few times about not being able to successfully skip my period on generic yasmin 28. last month, i bled during my active pills after trying to skip and i had brown discharge for the whole month.\",\n",
       "       'during my last cycle of pills, i got my period early (in week 3 of active pills) and it lasted 8 days (abnormal).',\n",
       "       'from the full article \"another investigation from tokokuni and sagripanti (1994) stated that copper materials implanted in the human body, particularly iuds, corrode with time and release potentially toxic ions, which can increase the production of 8 ohdg, a compound associated with mutagenesis and carcinogenesis.\"',\n",
       "       'i thought the spotting would stop after inserting the new ring but as for today (december 21st) it has actually increased.',\n",
       "       \"i've had my implant in for almost two months now and it's pretty much been non stop spotting since.\",\n",
       "       'but not the worst thing to have happened.so yes, it is possible to have your iud string knotted at the end with fibers and hair!!',\n",
       "       \"my discharge started to look like yellowish greenish mucus but it didn't smell so i'm guessing it was from the iud and it cleared up on it's own a week later.sex has had its ups and downs.\"],\n",
       "      dtype=object)"
      ]
     },
     "execution_count": 25,
     "metadata": {},
     "output_type": "execute_result"
    }
   ],
   "source": [
    "both[subset].head(10).SENTENCE.values"
   ]
  },
  {
   "cell_type": "code",
   "execution_count": 146,
   "metadata": {},
   "outputs": [
    {
     "data": {
      "text/plain": [
       "array([[ 54,  43],\n",
       "       [ 34, 127]])"
      ]
     },
     "execution_count": 146,
     "metadata": {},
     "output_type": "execute_result"
    }
   ],
   "source": [
    "##Using scikit learn to create CM\n",
    "y_true_new = both[\"rating_new\"]\n",
    "y_pred_new = both[\"label_new\"]\n",
    "c_mat = cm(y_true_new, y_pred_new)\n",
    "c_mat"
   ]
  },
  {
   "cell_type": "code",
   "execution_count": 147,
   "metadata": {},
   "outputs": [
    {
     "name": "stdout",
     "output_type": "stream",
     "text": [
      "rating_new\n",
      "-1     97\n",
      " 0    161\n",
      "Name: rating_new, dtype: int64\n"
     ]
    }
   ],
   "source": [
    "print(both.groupby(\"rating_new\")[\"rating_new\"].count())"
   ]
  },
  {
   "cell_type": "code",
   "execution_count": 148,
   "metadata": {},
   "outputs": [
    {
     "data": {
      "text/plain": [
       "<matplotlib.axes._subplots.AxesSubplot at 0x1a1a1e06a0>"
      ]
     },
     "execution_count": 148,
     "metadata": {},
     "output_type": "execute_result"
    },
    {
     "data": {
      "image/png": "[encoded data removed]",
      "text/plain": [
       "<matplotlib.figure.Figure at 0x1a1c193400>"
      ]
     },
     "metadata": {},
     "output_type": "display_data"
    }
   ],
   "source": [
    "###Attempting to plot confusion matrix\n",
    "\n",
    "df_cm = pd.DataFrame(c_mat, index = [\"-1\", \"0\"], columns = [\"-1\", \"0\"])\n",
    "#plt.figure(figsize = (10,7))\n",
    "sn.set(font_scale=1.4)#for label size\n",
    "sn.heatmap(df_cm, cmap = \"Blues\", annot=True, annot_kws={\"size\": 16})# font size"
   ]
  },
  {
   "cell_type": "code",
   "execution_count": 149,
   "metadata": {},
   "outputs": [
    {
     "name": "stdout",
     "output_type": "stream",
     "text": [
      "0.7015503875968992\n"
     ]
    }
   ],
   "source": [
    "##Checking accuracy of the confusion matrix\n",
    "accuracy = accuracy_score(y_true_new, y_pred_new, normalize=True, sample_weight=None)\n",
    "print(accuracy)"
   ]
  },
  {
   "cell_type": "code",
   "execution_count": 150,
   "metadata": {},
   "outputs": [
    {
     "data": {
      "text/plain": [
       "array([[ 76,  21],\n",
       "       [108,  53]])"
      ]
     },
     "execution_count": 150,
     "metadata": {},
     "output_type": "execute_result"
    }
   ],
   "source": [
    "##Using scikit learn to create CM\n",
    "y_true_new = both[\"rating_new\"]\n",
    "y_pred_new1 = both[\"label_0.1\"]\n",
    "c_mat1 = cm(y_true_new, y_pred_new1)\n",
    "c_mat1"
   ]
  },
  {
   "cell_type": "code",
   "execution_count": 151,
   "metadata": {},
   "outputs": [
    {
     "data": {
      "text/plain": [
       "<matplotlib.axes._subplots.AxesSubplot at 0x1a1b31f668>"
      ]
     },
     "execution_count": 151,
     "metadata": {},
     "output_type": "execute_result"
    },
    {
     "data": {
      "image/png": "[encoded data removed]",
      "text/plain": [
       "<matplotlib.figure.Figure at 0x1a1b318cc0>"
      ]
     },
     "metadata": {},
     "output_type": "display_data"
    }
   ],
   "source": [
    "###Attempting to plot other confusion matrix\n",
    "\n",
    "df1_cm = pd.DataFrame(c_mat1, index = [\"-1\", \"0\"], columns = [\"-1\", \"0\"])\n",
    "#plt.figure(figsize = (10,7))\n",
    "sn.set(font_scale=1.4)#for label size\n",
    "sn.heatmap(df1_cm, cmap = \"Blues\", annot=True, annot_kws={\"size\": 16})# font size"
   ]
  },
  {
   "cell_type": "code",
   "execution_count": 152,
   "metadata": {},
   "outputs": [
    {
     "name": "stdout",
     "output_type": "stream",
     "text": [
      "rating_new\n",
      "-1     97\n",
      " 0    161\n",
      "Name: rating_new, dtype: int64\n"
     ]
    }
   ],
   "source": [
    "print(both.groupby(\"rating_new\")[\"rating_new\"].count())"
   ]
  },
  {
   "cell_type": "code",
   "execution_count": 139,
   "metadata": {},
   "outputs": [
    {
     "name": "stdout",
     "output_type": "stream",
     "text": [
      "0.5\n"
     ]
    }
   ],
   "source": [
    "##Checking accuracy of the confusion matrix\n",
    "accuracy = accuracy_score(y_true_new, y_pred_new1, normalize=True, sample_weight=None)\n",
    "print(accuracy)"
   ]
  },
  {
   "cell_type": "code",
   "execution_count": 93,
   "metadata": {},
   "outputs": [
    {
     "name": "stdout",
     "output_type": "stream",
     "text": [
      "0.5511942114362554\n"
     ]
    }
   ],
   "source": [
    "##Checking recall of the confusion matrix\n",
    "recall = recall_score(y_true, y_pred, average = 'macro', sample_weight = None)\n",
    "print(recall)"
   ]
  },
  {
   "cell_type": "markdown",
   "metadata": {},
   "source": [
    "Find a way to compute precision and recall for ONLY -1 class!"
   ]
  },
  {
   "cell_type": "code",
   "execution_count": 60,
   "metadata": {},
   "outputs": [],
   "source": [
    "both['label.5'] = 0\n",
    "both.loc[both['compound'] > 0.1, 'label.5'] = 1\n",
    "both.loc[both['compound'] < -0.1, 'label.5'] = -1\n",
    "# both.loc[-0.2 < both['compound'] > 0.2, 'label'] = 0"
   ]
  },
  {
   "cell_type": "code",
   "execution_count": null,
   "metadata": {},
   "outputs": [],
   "source": [
    "both.head(25)"
   ]
  },
  {
   "cell_type": "code",
   "execution_count": 62,
   "metadata": {
    "scrolled": true
   },
   "outputs": [
    {
     "name": "stdout",
     "output_type": "stream",
     "text": [
      "0.5658914728682171\n",
      "0.5960572063877098\n"
     ]
    },
    {
     "data": {
      "image/png": "[encoded data removed]",
      "text/plain": [
       "<matplotlib.figure.Figure at 0x1a1c0fde80>"
      ]
     },
     "metadata": {},
     "output_type": "display_data"
    }
   ],
   "source": [
    "##Using scikit learn to create CM\n",
    "y_rating = both[\"RATING\"]\n",
    "y_pred2 = both[\"label.5\"]\n",
    "cm2 = cm(y_rating, y_pred2)\n",
    "cm2\n",
    "\n",
    "###Attempting to plot confusion matrix\n",
    "\n",
    "df_cm2 = pd.DataFrame(cm2, index = [\"-1\", \"0\", \"1\"], columns = [\"-1\", \"0\", \"1\"])\n",
    "#plt.figure(figsize = (10,7))\n",
    "sn.set(font_scale=1.4)#for label size\n",
    "sn.heatmap(df_cm2, cmap = \"Blues\", annot=True,annot_kws={\"size\": 16})# font size\n",
    "\n",
    "##Checking accuracy of the confusion matrix\n",
    "accuracy2 = accuracy_score(y_rating, y_pred2, normalize=True, sample_weight=None)\n",
    "print(accuracy2)\n",
    "\n",
    "##Checking recall of the confusion matrix\n",
    "recall2 = recall_score(y_rating, y_pred2, average = 'macro', sample_weight = None)\n",
    "print(recall2)"
   ]
  },
  {
   "cell_type": "markdown",
   "metadata": {},
   "source": [
    "The above model has worse accuracy but better recall than before!"
   ]
  },
  {
   "cell_type": "code",
   "execution_count": null,
   "metadata": {},
   "outputs": [],
   "source": [
    "###Attempting to see if VADER will do better with <0>\n",
    "\n",
    "both['label.0'] = 0\n",
    "both.loc[both['compound'] > 0, 'label.0'] = 1\n",
    "both.loc[both['compound'] < 0, 'label.0'] = -1\n",
    "# both.loc[-0.2 < both['compound'] > 0.2, 'label'] = 0"
   ]
  },
  {
   "cell_type": "code",
   "execution_count": null,
   "metadata": {},
   "outputs": [],
   "source": [
    "##Using scikit learn to create CM with label.0\n",
    "y_true = both[\"RATING\"]\n",
    "y_pred3 = both[\"label.0\"]\n",
    "cm3 = confusion_matrix(y_true, y_pred3)\n",
    "cm3\n",
    "\n",
    "###Attempting to plot confusion matrix\n",
    "\n",
    "df_cm3 = pd.DataFrame(cm3, index = [\"-1\", \"0\", \"1\"], columns = [\"-1\", \"0\", \"1\"])\n",
    "#plt.figure(figsize = (10,7))\n",
    "sn.set(font_scale=1.4)#for label size\n",
    "sn.heatmap(df_cm3, cmap = \"Blues\", annot=True,annot_kws={\"size\": 16})# font size\n",
    "\n",
    "##Checking accuracy of the confusion matrix\n",
    "accuracy3 = accuracy_score(y_true, y_pred3, normalize=True, sample_weight=None)\n",
    "print(accuracy3)\n",
    "\n",
    "##Checking recall of the confusion matrix\n",
    "recall3 = recall_score(y_true, y_pred3, average = 'macro', sample_weight = None)\n",
    "print(recall3)"
   ]
  },
  {
   "cell_type": "markdown",
   "metadata": {},
   "source": [
    "This does worse than before on both accuracy and recall. Womp womp."
   ]
  },
  {
   "cell_type": "code",
   "execution_count": null,
   "metadata": {},
   "outputs": [],
   "source": []
  }
 ],
 "metadata": {
  "kernelspec": {
   "display_name": "Python 3",
   "language": "python",
   "name": "python3"
  },
  "language_info": {
   "codemirror_mode": {
    "name": "ipython",
    "version": 3
   },
   "file_extension": ".py",
   "mimetype": "text/x-python",
   "name": "python",
   "nbconvert_exporter": "python",
   "pygments_lexer": "ipython3",
   "version": "3.6.4"
  }
 },
 "nbformat": 4,
 "nbformat_minor": 2
}
